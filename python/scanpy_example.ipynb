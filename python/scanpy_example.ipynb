{
 "cells": [
  {
   "cell_type": "markdown",
   "id": "fcb65305-46b6-402c-ad70-743c26fb103f",
   "metadata": {},
   "source": [
    "# ScanPy MDV example\n"
   ]
  },
  {
   "cell_type": "markdown",
   "id": "23784805-3696-4c41-8acd-cdfdb5487f37",
   "metadata": {},
   "source": [
    "Some boilerplate for creating an `mdv` folder in the user home."
   ]
  },
  {
   "cell_type": "code",
   "execution_count": 1,
   "id": "3543e79f-64a1-4593-9c4f-f8495c9a1b9c",
   "metadata": {},
   "outputs": [],
   "source": [
    "import os\n",
    "home = os.path.expanduser('~/mdv')\n",
    "if not os.path.exists(home):\n",
    "    os.mkdir(home)\n",
    "folder = os.path.expanduser('~/mdv/pbmc3k_example')"
   ]
  },
  {
   "cell_type": "markdown",
   "id": "c0b20288-78e2-4070-b359-606761dac777",
   "metadata": {},
   "source": [
    "A utility script is provided for converting `scanpy` objects into MDV projects. It will create a `\"cells\"` datasource from `data.obs` and a `\"genes\"` datasource from `data.var`, along with columns for dimension-reduced coordinates and clusters in each.\n",
    "\n",
    "Here, we load an example dataset and run that conversion. If this script has been run previously, this step can be skipped."
   ]
  },
  {
   "cell_type": "code",
   "execution_count": null,
   "id": "e6d7240c",
   "metadata": {},
   "outputs": [],
   "source": [
    "import scanpy\n",
    "from mdvtools.conversions import convert_scanpy_to_mdv\n",
    "\n",
    "data = scanpy.datasets.pbmc3k_processed()\n",
    "p = convert_scanpy_to_mdv(folder, data)"
   ]
  },
  {
   "cell_type": "markdown",
   "id": "c6479c31-7c30-446b-b362-a322c5f3321a",
   "metadata": {},
   "source": [
    "If the project has folder already been setup, it can be opened (this is redundant if `p` has just been assigned by the cell above)..."
   ]
  },
  {
   "cell_type": "code",
   "execution_count": 2,
   "id": "a65e57b2-19ca-4e13-8838-fe2375dda8f4",
   "metadata": {},
   "outputs": [],
   "source": [
    "from mdvtools.mdvproject import MDVProject\n",
    "p = MDVProject(folder)"
   ]
  },
  {
   "cell_type": "markdown",
   "id": "de3554e1",
   "metadata": {},
   "source": [
    "`set_editable(True)` will allow the configuration and layout of charts to be saved. Initially an empty default view is created. The easiest way to add content is interactively through the browser."
   ]
  },
  {
   "cell_type": "code",
   "execution_count": 3,
   "id": "55cd0952-89f9-4a77-90e5-380481d991ad",
   "metadata": {},
   "outputs": [],
   "source": [
    "p.set_editable(True)"
   ]
  },
  {
   "cell_type": "markdown",
   "id": "4f70e3b7",
   "metadata": {},
   "source": [
    "The `serve()` method will start a local python server on port 5050 and open the page in a browser."
   ]
  },
  {
   "cell_type": "code",
   "execution_count": null,
   "id": "706a90b3-9329-4f70-bced-e112750f3286",
   "metadata": {},
   "outputs": [],
   "source": [
    "p.serve()"
   ]
  }
 ],
 "metadata": {
  "kernelspec": {
   "display_name": "Python 3 (ipykernel)",
   "language": "python",
   "name": "python3"
  },
  "language_info": {
   "codemirror_mode": {
    "name": "ipython",
    "version": 3
   },
   "file_extension": ".py",
   "mimetype": "text/x-python",
   "name": "python",
   "nbconvert_exporter": "python",
   "pygments_lexer": "ipython3",
   "version": "3.10.4"
  }
 },
 "nbformat": 4,
 "nbformat_minor": 5
}
