{
 "cells": [
  {
   "cell_type": "code",
   "execution_count": 3,
   "metadata": {},
   "outputs": [],
   "source": [
    "#from mdvtools.mdvproject import MDVProject\n",
    "import mdvtools.charts.chart_dicts as cd\n",
    "import scanpy as sc\n",
    "from mdvtools.conversions import convert_scanpy_to_mdv\n",
    "#from mdvtools.charts.view import View\n",
    "import os"
   ]
  },
  {
   "cell_type": "code",
   "execution_count": 2,
   "metadata": {},
   "outputs": [
    {
     "name": "stderr",
     "output_type": "stream",
     "text": [
      "100%|██████████| 23.5M/23.5M [00:00<00:00, 54.2MB/s]\n"
     ]
    }
   ],
   "source": [
    "df = sc.datasets.pbmc3k_processed()\n",
    "# p = MDVProject(os.path.expanduser('~/mdv/chartdict'), delete_existing=True)\n",
    "p = convert_scanpy_to_mdv(os.path.expanduser('~/mdv/chartdict'), df, delete_existing=True)\n",
    "p.set_editable(True)"
   ]
  },
  {
   "cell_type": "code",
   "execution_count": null,
   "metadata": {},
   "outputs": [],
   "source": [
    "col: cd.ColorProperties = {\n",
    "    \"color_by\": \"louvain\",\n",
    "    \"color_legend\": {\n",
    "        \"display\": True,\n",
    "        \"pos\": (0, 0)\n",
    "    }\n",
    "}\n",
    "\n",
    "c2 = cd.ColorProperties(color_by=\"louvain\", color_legend=cd.ColorLegend(display=True, pos=(0, 0)))\n",
    "xAxis = cd.AxisProperties(label=\"PCs_1\")\n",
    "yAxis = cd.AxisProperties(label=\"PCs_2\")\n",
    "axes = cd.Axes(x=xAxis, y=yAxis)\n",
    "scatter2d: cd.ScatterChart = {\n",
    "    \"type\": \"wgl_scatter_plot\", # << we want to not have to specify this\n",
    "    \"param\": [\"PCs_1\", \"PCs_2\"],\n",
    "    **col,\n",
    "    \"axis\": axes\n",
    "    # \"color_by\": \"louvain\",\n",
    "    # \"color_legend\": {\n",
    "    #     \"display\": True,\n",
    "    #     \"pos\": (0, 0)\n",
    "    # }\n",
    "}\n",
    "\n",
    "scatter = cd.ScatterChart(type=\"wgl_scatter_plot\", param=[\"PCs_1\", \"PCs_2\"], axis=axes, **col)"
   ]
  }
 ],
 "metadata": {
  "kernelspec": {
   "display_name": "venv",
   "language": "python",
   "name": "python3"
  },
  "language_info": {
   "codemirror_mode": {
    "name": "ipython",
    "version": 3
   },
   "file_extension": ".py",
   "mimetype": "text/x-python",
   "name": "python",
   "nbconvert_exporter": "python",
   "pygments_lexer": "ipython3",
   "version": "3.12.2"
  }
 },
 "nbformat": 4,
 "nbformat_minor": 2
}
