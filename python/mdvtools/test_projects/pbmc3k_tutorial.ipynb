{
 "cells": [
  {
   "cell_type": "markdown",
   "metadata": {},
   "source": [
    "# Processing, Clustering and Visualising in MDV 3k PBMCs"
   ]
  },
  {
   "cell_type": "markdown",
   "metadata": {},
   "source": [
    "The part of this tutorial dedicated to analysing the data is based on the scanpy tutorial \"Preprocessing and clustering 3k PBMCs (legacy workflow)\" found here: https://scanpy.readthedocs.io/en/stable/tutorials/index.html . If you are interested in understanding the data analysis part of this tutorial more, please check the scanpy tutorial. The data consists of 3k PBMCs from a Healthy Donor and are available from 10x Genomics. On a unix system, you can uncomment and run the following to download and unpack the data. Alternatively you can download the data from http://cf.10xgenomics.com/samples/cell-exp/1.1.0/pbmc3k/pbmc3k_filtered_gene_bc_matrices.tar.gz, create a new directory named \"data\" in the same level that this jupyter notebook is saved and run from, and unzip the data within the \"data\" directory."
   ]
  },
  {
   "cell_type": "code",
   "execution_count": 2,
   "metadata": {},
   "outputs": [
    {
     "name": "stdout",
     "output_type": "stream",
     "text": [
      "Downloaded and extracted data\n"
     ]
    }
   ],
   "source": [
    "import os\n",
    "import requests\n",
    "import tarfile\n",
    "try:\n",
    "    os.mkdir('data')\n",
    "    os.mkdir('write')\n",
    "except FileExistsError:\n",
    "    pass\n",
    "url = 'http://cf.10xgenomics.com/samples/cell-exp/1.1.0/pbmc3k/pbmc3k_filtered_gene_bc_matrices.tar.gz'\n",
    "r = requests.get(url)\n",
    "with open('data/pbmc3k_filtered_gene_bc_matrices.tar.gz', 'wb') as f:\n",
    "    f.write(r.content)\n",
    "tar = tarfile.open('data/pbmc3k_filtered_gene_bc_matrices.tar.gz')\n",
    "tar.extractall('data')\n",
    "tar.close()\n",
    "print('Downloaded and extracted data')\n",
    "#!mkdir data\n",
    "#!wget http://cf.10xgenomics.com/samples/cell-exp/1.1.0/pbmc3k/pbmc3k_filtered_gene_bc_matrices.tar.gz -O data/pbmc3k_filtered_gene_bc_matrices.tar.gz\n",
    "#!cd data; tar -xzf pbmc3k_filtered_gene_bc_matrices.tar.gz\n",
    "#!mkdir write"
   ]
  },
  {
   "cell_type": "markdown",
   "metadata": {},
   "source": [
    "#### Importing the required packages for data preprocessing"
   ]
  },
  {
   "cell_type": "code",
   "execution_count": 2,
   "metadata": {},
   "outputs": [],
   "source": [
    "import numpy as np\n",
    "import pandas as pd\n",
    "import scanpy as sc"
   ]
  },
  {
   "cell_type": "markdown",
   "metadata": {},
   "source": [
    "#### Importing the required packages for MDV set up and visualisation"
   ]
  },
  {
   "cell_type": "code",
   "execution_count": 3,
   "metadata": {},
   "outputs": [],
   "source": [
    "import os\n",
    "import json\n",
    "from mdvtools.mdvproject import MDVProject\n",
    "from mdvtools.charts.row_chart import RowChart\n",
    "from mdvtools.charts.dot_plot import DotPlot\n",
    "from mdvtools.charts.histogram_plot import HistogramPlot\n",
    "from mdvtools.charts.scatter_plot_3D import ScatterPlot3D\n",
    "from mdvtools.charts.scatter_plot import ScatterPlot\n",
    "from mdvtools.charts.table_plot import TablePlot"
   ]
  },
  {
   "cell_type": "markdown",
   "metadata": {},
   "source": [
    "## Data analysis section"
   ]
  },
  {
   "cell_type": "code",
   "execution_count": 4,
   "metadata": {},
   "outputs": [
    {
     "name": "stderr",
     "output_type": "stream",
     "text": [
      "/Users/mariak/Documents/MDVmk/MDV/venv/lib/python3.12/site-packages/tqdm/auto.py:21: TqdmWarning: IProgress not found. Please update jupyter and ipywidgets. See https://ipywidgets.readthedocs.io/en/stable/user_install.html\n",
      "  from .autonotebook import tqdm as notebook_tqdm\n"
     ]
    },
    {
     "name": "stdout",
     "output_type": "stream",
     "text": [
      "scanpy==1.10.1 anndata==0.9.2 umap==0.5.6 numpy==1.26.4 scipy==1.13.0 pandas==2.2.2 scikit-learn==1.4.2 statsmodels==0.14.2 igraph==0.11.4 pynndescent==0.5.12\n"
     ]
    }
   ],
   "source": [
    "# scanpy parameters for feedback level setting\n",
    "sc.settings.verbosity = 3  # verbosity: errors (0), warnings (1), info (2), hints (3)\n",
    "sc.logging.print_header() # printing a header of introductory information about the environment/library used"
   ]
  },
  {
   "cell_type": "code",
   "execution_count": 5,
   "metadata": {},
   "outputs": [],
   "source": [
    "#file_path = os.path.abspath('') # absolute path of the current python executing script file \n",
    "#dir = os.path.dirname(file_path) # absolute path of the directory containing the current script file\n",
    "#os.chdir(dir) # this function changes the current working directory to the one specified in its argument"
   ]
  },
  {
   "cell_type": "code",
   "execution_count": 6,
   "metadata": {},
   "outputs": [
    {
     "name": "stdout",
     "output_type": "stream",
     "text": [
      "<built-in function dir>\n"
     ]
    }
   ],
   "source": [
    "print(dir)"
   ]
  },
  {
   "cell_type": "code",
   "execution_count": 7,
   "metadata": {},
   "outputs": [
    {
     "name": "stdout",
     "output_type": "stream",
     "text": [
      "... reading from cache file cache/data-filtered_gene_bc_matrices-hg19-matrix.h5ad\n"
     ]
    }
   ],
   "source": [
    "# reading the 3k 10x data\n",
    "\n",
    "adata = sc.read_10x_mtx(\n",
    "    \"data/filtered_gene_bc_matrices/hg19/\",  # the directory with the `.mtx` file\n",
    "    var_names=\"gene_symbols\",  # use gene symbols for the variable names (variables-axis index)\n",
    "    cache=True,)  # write a cache file for faster subsequent reading)"
   ]
  },
  {
   "cell_type": "markdown",
   "metadata": {},
   "source": [
    "#### Data preprocessing"
   ]
  },
  {
   "cell_type": "code",
   "execution_count": 8,
   "metadata": {},
   "outputs": [
    {
     "name": "stdout",
     "output_type": "stream",
     "text": [
      "filtered out 19024 genes that are detected in less than 3 cells\n",
      "normalizing counts per cell\n",
      "    finished (0:00:00)\n",
      "extracting highly variable genes\n",
      "    finished (0:00:00)\n",
      "--> added\n",
      "    'highly_variable', boolean vector (adata.var)\n",
      "    'means', float vector (adata.var)\n",
      "    'dispersions', float vector (adata.var)\n",
      "    'dispersions_norm', float vector (adata.var)\n",
      "regressing out ['total_counts', 'pct_counts_mt']\n",
      "    sparse input is densified and may lead to high memory use\n"
     ]
    },
    {
     "name": "stderr",
     "output_type": "stream",
     "text": [
      "/Users/mariak/Documents/MDVmk/MDV/venv/lib/python3.12/site-packages/scanpy/preprocessing/_simple.py:641: UserWarning: Received a view of an AnnData. Making a copy.\n",
      "  view_to_actual(adata)\n"
     ]
    },
    {
     "name": "stdout",
     "output_type": "stream",
     "text": [
      "    finished (0:00:02)\n"
     ]
    }
   ],
   "source": [
    "# annotate the group of mitochondrial genes as \"mt\"\n",
    "adata.var[\"mt\"] = adata.var_names.str.startswith(\"MT-\")\n",
    "\n",
    "# running quality control metrics to filter the anndata object\n",
    "sc.pp.calculate_qc_metrics(\n",
    "    adata, qc_vars=[\"mt\"], percent_top=None, log1p=False, inplace=True)\n",
    "\n",
    "# using filter_cells and filter_genes to filter our cells\n",
    "sc.pp.filter_cells(adata, min_genes=200)\n",
    "sc.pp.filter_genes(adata, min_cells=3)\n",
    "\n",
    "# slicing the anndata object to remove genes that have too many mitochondrial genes expressed or too many total counts\n",
    "adata = adata[adata.obs.n_genes_by_counts < 2500, :] \n",
    "adata = adata[adata.obs.pct_counts_mt < 5, :].copy()\n",
    "\n",
    "# total-count normalising the anndata object to 10,000 reads per cell, so that counts become comparable among cells\n",
    "sc.pp.normalize_total(adata, target_sum=1e4)\n",
    "\n",
    "# logarithmising the data\n",
    "sc.pp.log1p(adata)\n",
    "\n",
    "# identifying highly-variable genes\n",
    "sc.pp.highly_variable_genes(adata, min_mean=0.0125, max_mean=3, min_disp=0.5)\n",
    "\n",
    "# freezing the state of the anndata object to the normalised and logarithmised raw gene expression\n",
    "adata.raw = adata\n",
    "\n",
    "# filtering the highly-variable genes\n",
    "adata = adata[:, adata.var.highly_variable]\n",
    "\n",
    "# regressing out effects of total counts per cell and the percentage of mitochondrial genes expressed\n",
    "sc.pp.regress_out(adata, [\"total_counts\", \"pct_counts_mt\"])\n",
    "\n",
    "# scaling the data to unit variance\n",
    "sc.pp.scale(adata, max_value=10)\n",
    "\n"
   ]
  },
  {
   "cell_type": "markdown",
   "metadata": {},
   "source": [
    "#### Principal component analysis"
   ]
  },
  {
   "cell_type": "code",
   "execution_count": 9,
   "metadata": {},
   "outputs": [
    {
     "name": "stdout",
     "output_type": "stream",
     "text": [
      "computing PCA\n",
      "    with n_comps=50\n",
      "    finished (0:00:01)\n"
     ]
    }
   ],
   "source": [
    "# running PCA\n",
    "sc.tl.pca(adata, svd_solver=\"arpack\")"
   ]
  },
  {
   "cell_type": "markdown",
   "metadata": {},
   "source": [
    "#### Neighborhood graph"
   ]
  },
  {
   "cell_type": "code",
   "execution_count": 10,
   "metadata": {},
   "outputs": [
    {
     "name": "stdout",
     "output_type": "stream",
     "text": [
      "computing neighbors\n",
      "    using 'X_pca' with n_pcs = 40\n",
      "    finished: added to `.uns['neighbors']`\n",
      "    `.obsp['distances']`, distances for each pair of neighbors\n",
      "    `.obsp['connectivities']`, weighted adjacency matrix (0:00:01)\n"
     ]
    }
   ],
   "source": [
    "# computing the neighborhood graph of cells using the PCA representation of the anndata object\n",
    "sc.pp.neighbors(adata, n_neighbors=10, n_pcs=40)"
   ]
  },
  {
   "cell_type": "markdown",
   "metadata": {},
   "source": [
    "#### Embedding the neighborhood graph in 2D"
   ]
  },
  {
   "cell_type": "code",
   "execution_count": 11,
   "metadata": {},
   "outputs": [
    {
     "name": "stdout",
     "output_type": "stream",
     "text": [
      "computing UMAP\n",
      "    finished: added\n",
      "    'X_umap', UMAP coordinates (adata.obsm) (0:00:02)\n"
     ]
    }
   ],
   "source": [
    "sc.tl.umap(adata)"
   ]
  },
  {
   "cell_type": "markdown",
   "metadata": {},
   "source": [
    "#### Clustering the neighborhood graph"
   ]
  },
  {
   "cell_type": "code",
   "execution_count": 12,
   "metadata": {},
   "outputs": [
    {
     "name": "stdout",
     "output_type": "stream",
     "text": [
      "running Leiden clustering\n",
      "    finished: found 7 clusters and added\n",
      "    'leiden', the cluster labels (adata.obs, categorical) (0:00:00)\n"
     ]
    },
    {
     "name": "stderr",
     "output_type": "stream",
     "text": [
      "/var/folders/xf/lj2gr_2s7txb29m_mkg78h_80000gn/T/ipykernel_83764/1228213169.py:1: FutureWarning: In the future, the default backend for leiden will be igraph instead of leidenalg.\n",
      "\n",
      " To achieve the future defaults please pass: flavor=\"igraph\" and n_iterations=2.  directed must also be False to work with igraph's implementation.\n",
      "  sc.tl.leiden(\n"
     ]
    }
   ],
   "source": [
    "sc.tl.leiden(\n",
    "    adata,\n",
    "    resolution=0.9,\n",
    "    random_state=0,\n",
    "    #flavor=\"igraph\", default is leidenalg\n",
    "    n_iterations=2,\n",
    "    directed=False,)"
   ]
  },
  {
   "cell_type": "markdown",
   "metadata": {},
   "source": [
    "#### Ranking the highly differential genes in each cluster"
   ]
  },
  {
   "cell_type": "code",
   "execution_count": 13,
   "metadata": {},
   "outputs": [
    {
     "name": "stdout",
     "output_type": "stream",
     "text": [
      "ranking genes\n",
      "    finished: added to `.uns['rank_genes_groups']`\n",
      "    'names', sorted np.recarray to be indexed by group ids\n",
      "    'scores', sorted np.recarray to be indexed by group ids\n",
      "    'logfoldchanges', sorted np.recarray to be indexed by group ids\n",
      "    'pvals', sorted np.recarray to be indexed by group ids\n",
      "    'pvals_adj', sorted np.recarray to be indexed by group ids (0:00:00)\n",
      "ranking genes\n",
      "    finished: added to `.uns['rank_genes_groups']`\n",
      "    'names', sorted np.recarray to be indexed by group ids\n",
      "    'scores', sorted np.recarray to be indexed by group ids\n",
      "    'logfoldchanges', sorted np.recarray to be indexed by group ids\n",
      "    'pvals', sorted np.recarray to be indexed by group ids\n",
      "    'pvals_adj', sorted np.recarray to be indexed by group ids (0:00:01)\n",
      "ranking genes\n",
      "    finished: added to `.uns['rank_genes_groups']`\n",
      "    'names', sorted np.recarray to be indexed by group ids\n",
      "    'scores', sorted np.recarray to be indexed by group ids\n",
      " (0:00:01)\n"
     ]
    }
   ],
   "source": [
    "sc.tl.rank_genes_groups(adata, \"leiden\", method=\"t-test\")\n",
    "sc.tl.rank_genes_groups(adata, \"leiden\", method=\"wilcoxon\")\n",
    "sc.tl.rank_genes_groups(adata, \"leiden\", method=\"logreg\", max_iter=1000)"
   ]
  },
  {
   "cell_type": "markdown",
   "metadata": {},
   "source": [
    "#### Converting the anndata object to pandas dataframes"
   ]
  },
  {
   "cell_type": "code",
   "execution_count": 14,
   "metadata": {},
   "outputs": [],
   "source": [
    "# cells dataframe \n",
    "\n",
    "cells_df = pd.DataFrame(adata.obs)\n",
    "\n",
    "# adding the PCA data to the cells dataframe\n",
    "pca_np = np.array(adata.obsm[\"X_pca\"])\n",
    "cells_df[\"X_pca_1\"] = pca_np[:, 0]\n",
    "cells_df[\"X_pca_2\"] = pca_np[:, 1]\n",
    "cells_df[\"X_pca_3\"] = pca_np[:, 2]\n",
    "\n",
    "# adding the umap data to the cells dataframe\n",
    "umap_np = np.array(adata.obsm[\"X_umap\"])\n",
    "cells_df[\"X_umap_1\"] = umap_np[:, 0]\n",
    "cells_df[\"X_umap_2\"] = umap_np[:, 1]\n",
    "\n",
    "cells_df[\"cell_id\"] = adata.obs.index\n",
    "\n",
    "assert isinstance(adata.X, np.ndarray)\n",
    "adata.layers['counts'] = adata.X.copy()\n",
    "\n",
    "## these can be added dynamically with the 'Add Gene Expr' UI in the frontend\n",
    "assert isinstance(adata.layers['counts'], np.ndarray)\n",
    "counts = np.array(adata.layers['counts'])\n",
    "transpose_counts = np.transpose(counts)\n",
    "cells_df['ARVCF']=transpose_counts[adata.var.index.get_loc(\"ARVCF\")]\n",
    "cells_df['DOK3']=transpose_counts[adata.var.index.get_loc(\"DOK3\")]\n",
    "cells_df['FAM210B']=transpose_counts[adata.var.index.get_loc(\"FAM210B\")]\n",
    "cells_df['GBGT1']=transpose_counts[adata.var.index.get_loc(\"GBGT1\")]\n",
    "cells_df['NFE2L2']=transpose_counts[adata.var.index.get_loc(\"NFE2L2\")]\n",
    "cells_df['UBE2D4']=transpose_counts[adata.var.index.get_loc(\"UBE2D4\")]\n",
    "cells_df['YPEL2']=transpose_counts[adata.var.index.get_loc(\"YPEL2\")]\n",
    "\n",
    "# genes dataframe\n",
    "gene_table = adata.var\n",
    "gene_table[\"gene_ids\"]=gene_table.index\n",
    "\n",
    "varm_np = np.array(adata.varm[\"PCs\"])\n",
    "gene_table[\"PCs_1\"] = varm_np[:, 0]\n",
    "gene_table[\"PCs_2\"] = varm_np[:, 1]"
   ]
  },
  {
   "cell_type": "markdown",
   "metadata": {},
   "source": [
    "## MDV charts set up section\n",
    "\n",
    "The different types of charts are defined in the mdvtools/charts/ folder. These are:\n",
    "1. Abundance box plot\n",
    "2. Box plot\n",
    "3. Density scatter plot\n",
    "4. Dot plot\n",
    "5. Heatmap plot\n",
    "6. Histogram plot\n",
    "7. Multi-line plot\n",
    "8. Ring chart\n",
    "9. Row chart\n",
    "10. Sankey plot\n",
    "11. Scatter plot\n",
    "12. Scatter plot 3D\n",
    "13. Stacked row plot\n",
    "14. Table\n",
    "15. Violin plot\n",
    "16. Wordcloud"
   ]
  },
  {
   "cell_type": "code",
   "execution_count": 15,
   "metadata": {},
   "outputs": [],
   "source": [
    "# Cells charts\n",
    "\n",
    "# creating a row chart based on the Row Chart implementation to show the leiden clustering\n",
    "row_chart = RowChart(\n",
    "    title=\"leiden\",\n",
    "    param=\"leiden\",\n",
    "    position=[380, 270],\n",
    "    size=[260, 260]\n",
    ")\n",
    "\n",
    "# configuring the row chart\n",
    "row_chart.set_axis_properties(\"x\", {\"textSize\": 13, \"label\": \"\", \"tickfont\": 10})\n",
    "\n",
    "\n",
    "# creating a dot plot based on the DotPlot implementation to show the gene expression of selected gene markers\n",
    "dot_plot = DotPlot(\n",
    "    title=\"leiden\",\n",
    "    params=[\"leiden\", \"ARVCF\", \"DOK3\", \"FAM210B\", \"GBGT1\", \"NFE2L2\", \"UBE2D4\", \"YPEL2\"],\n",
    "    size=[400, 250],\n",
    "    position=[10, 10]\n",
    ")\n",
    "\n",
    "# configuring the dot plot\n",
    "dot_plot.set_axis_properties(\"x\", {\"label\": \"\", \"textSize\": 13, \"tickfont\": 10})\n",
    "dot_plot.set_axis_properties(\"y\", {\"label\": \"\", \"textSize\": 13, \"tickfont\": 10})\n",
    "dot_plot.set_axis_properties(\"ry\", {\"label\": \"\", \"textSize\": 13, \"tickfont\": 10})\n",
    "dot_plot.set_color_scale(log_scale=False)\n",
    "dot_plot.set_color_legend(True, [40, 10])\n",
    "dot_plot.set_fraction_legend(True, [0, 0])\n",
    "\n",
    "\n",
    "# creating a histogram plot based on the HistogramPlot implementation to show the distribution of the number of genes per counts\n",
    "histogram_plot = HistogramPlot(\n",
    "    title=\"n_genes_by_counts\",\n",
    "    param=\"n_genes_by_counts\",\n",
    "    bin_number=17,\n",
    "    display_min=0,\n",
    "    display_max=2500,\n",
    "    size=[360, 250],\n",
    "    position=[10, 280]\n",
    ")\n",
    "\n",
    "# configuring the histogram\n",
    "histogram_plot.set_x_axis(size=30, label=\"n_genes_by_counts\", textsize=13, tickfont=10)\n",
    "histogram_plot.set_y_axis(size=45, label=\"frequency\", textsize=13, tickfont=10, rotate_labels=False)\n",
    "\n",
    "# creating a scatter plot based on the ScatterPlot3D implementation to show the 3 PCA clustering components\n",
    "scatter_plot = ScatterPlot3D(\n",
    "    title=\"X_pca_1 x X_pca_2 x X_pca_3\",\n",
    "    params=[\"X_pca_1\", \"X_pca_2\", \"X_pca_3\"],\n",
    "    size=[250, 250],\n",
    "    position=[420, 10],\n",
    "    default_color=\"#377eb8\",\n",
    "    brush=\"default\",\n",
    "    center=[0, 0, 0],\n",
    "    on_filter=\"hide\",\n",
    "    radius=5,\n",
    "    opacity=0.8,\n",
    "    axis_scales=[220, 220, 220],\n",
    "    camera={\"distance\": 37543.999999999956, \"theta\": -1.038, \"phi\": 0.261}\n",
    ")\n",
    "\n",
    "# configuring the scatter plot\n",
    "scatter_plot.set_color_by(\"leiden\")\n"
   ]
  },
  {
   "cell_type": "code",
   "execution_count": 16,
   "metadata": {},
   "outputs": [],
   "source": [
    "# Genes charts\n",
    "\n",
    "# creating a scatter plot using the ScatterPlot implementation to show the 2 PCA clustering components\n",
    "scatter2D_plot = ScatterPlot(\n",
    "    title=\"PCs_1 x PCs_2\",\n",
    "    params=[\"PCs_1\", \"PCs_2\"],\n",
    "    size=[250, 250],\n",
    "    position=[270, 10]\n",
    ")\n",
    "\n",
    "# configuring the scatter plot\n",
    "scatter2D_plot.set_default_color(\"#377eb8\")\n",
    "scatter2D_plot.set_brush(\"poly\")\n",
    "scatter2D_plot.set_opacity(0.8)\n",
    "scatter2D_plot.set_radius(2)\n",
    "scatter2D_plot.set_color_legend(display=True, position=[20, 1])\n",
    "scatter2D_plot.set_axis_properties(\"x\", {\"label\": \"PCs_1\", \"textSize\": 13, \"tickfont\": 10})\n",
    "scatter2D_plot.set_axis_properties(\"y\", {\"label\": \"PCs_2\", \"textSize\": 13, \"tickfont\": 10})\n",
    "scatter2D_plot.set_color_by(\"dispersions\")\n",
    "\n",
    "# creating a table using the TablePlot implementation to show all the data associated with the genes dataframe\n",
    "table_plot = TablePlot(\n",
    "    title=\"Data table\",\n",
    "    params= gene_table.columns.values.tolist() ,\n",
    "    size=[250, 500],\n",
    "    position=[10, 10]\n",
    ")\n",
    "\n",
    "# creating a histogram using the HistogramPlot implementation to show a histogram of the number of genes per cell distribution\n",
    "histogram_plot_2 = HistogramPlot(\n",
    "    title=\"n_cells\",\n",
    "    param=\"n_cells\",\n",
    "    bin_number=17,\n",
    "    display_min=0,\n",
    "    display_max=2500,\n",
    "    size=[240, 240],\n",
    "    position=[270, 280]\n",
    ")\n",
    "\n",
    "# configuring the histogram\n",
    "histogram_plot_2.set_x_axis(size=30, label=\"n_cells\", textsize=13, tickfont=10)\n",
    "histogram_plot_2.set_y_axis(size=45, label=\"frequency\", textsize=13, tickfont=10, rotate_labels=False)"
   ]
  },
  {
   "cell_type": "markdown",
   "metadata": {},
   "source": [
    "## Set up and serve the MDV project"
   ]
  },
  {
   "cell_type": "code",
   "execution_count": 21,
   "metadata": {},
   "outputs": [],
   "source": [
    "# setting up and serving the MDV project\n",
    "base = os.path.expanduser('~/mdv')\n",
    "project_path = os.path.join(base, 'pbmc3k') # defining the location where the project metadata will be stored\n",
    "p = MDVProject(os.path.expanduser(project_path), delete_existing=True)\n",
    "\n",
    "# adding the two data sources to the project\n",
    "p.add_datasource(\"cells\", cells_df)\n",
    "p.add_datasource(\"genes\", gene_table)\n",
    "\n",
    "# converting the chart implementation outputs to JSON and setting up the project view\n",
    "list_charts_cells = []\n",
    "list_charts_genes = []\n",
    "\n",
    "# cells panel\n",
    "list_charts_cells.append(row_chart.plot_data)\n",
    "list_charts_cells.append(dot_plot.plot_data)\n",
    "list_charts_cells.append(histogram_plot.plot_data)\n",
    "list_charts_cells.append(scatter_plot.plot_data)\n",
    "\n",
    "# genes panel\n",
    "list_charts_genes.append(table_plot.plot_data)\n",
    "list_charts_genes.append(scatter2D_plot.plot_data)\n",
    "list_charts_genes.append(histogram_plot_2.plot_data)\n",
    "\n",
    "# setting the config combining the two panels\n",
    "view_config = {'initialCharts': {\"cells\": list_charts_cells, \"genes\":list_charts_genes}}\n",
    "\n",
    "# creating the link between the two datasets so that selecting a subset of genes to add the expression in cells is enabled\n",
    "p.add_rows_as_columns_link(\"cells\",\"genes\",\"gene_ids\",\"Gene Expression\")\n",
    "p.add_rows_as_columns_subgroup(\"cells\",\"genes\",\"Gene scores\",adata.X) #add the gene expression \n",
    "\n",
    "# adding the view to the project configuration\n",
    "p.set_view(\"default\", view_config)\n",
    "p.set_editable(True)"
   ]
  },
  {
   "cell_type": "code",
   "execution_count": null,
   "metadata": {},
   "outputs": [],
   "source": [
    "# serving the project\n",
    "# p.serve()\n"
   ]
  },
  {
   "cell_type": "code",
   "execution_count": 23,
   "metadata": {},
   "outputs": [
    {
     "data": {
      "text/plain": [
       "(2638, 1838)"
      ]
     },
     "execution_count": 23,
     "metadata": {},
     "output_type": "execute_result"
    }
   ],
   "source": [
    "adata.X.shape"
   ]
  }
 ],
 "metadata": {
  "kernelspec": {
   "display_name": "Python 3 (ipykernel)",
   "language": "python",
   "name": "python3"
  },
  "language_info": {
   "codemirror_mode": {
    "name": "ipython",
    "version": 3
   },
   "file_extension": ".py",
   "mimetype": "text/x-python",
   "name": "python",
   "nbconvert_exporter": "python",
   "pygments_lexer": "ipython3",
   "version": "3.12.2"
  }
 },
 "nbformat": 4,
 "nbformat_minor": 4
}
