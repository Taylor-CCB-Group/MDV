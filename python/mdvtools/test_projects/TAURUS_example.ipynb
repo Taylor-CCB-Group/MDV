{
 "cells": [
  {
   "cell_type": "markdown",
   "metadata": {},
   "source": [
    "# Processing, Clustering and Visualising in MDV 3k PBMCs"
   ]
  },
  {
   "cell_type": "markdown",
   "metadata": {},
   "source": [
    "The part of this tutorial dedicated to analysing the data is based on the scanpy tutorial \"Preprocessing and clustering 3k PBMCs (legacy workflow)\" found here: https://scanpy.readthedocs.io/en/stable/tutorials/index.html . If you are interested in understanding the data analysis part of this tutorial more, please check the scanpy tutorial. The data consists of 3k PBMCs from a Healthy Donor and are available from 10x Genomics. On a unix system, you can uncomment and run the following to download and unpack the data. Alternatively you can download the data from http://cf.10xgenomics.com/samples/cell-exp/1.1.0/pbmc3k/pbmc3k_filtered_gene_bc_matrices.tar.gz, create a new directory named \"data\" in the same level that this jupyter notebook is saved and run from, and unzip the data within the \"data\" directory."
   ]
  },
  {
   "cell_type": "markdown",
   "metadata": {},
   "source": [
    "#### Importing the required packages for data preprocessing"
   ]
  },
  {
   "cell_type": "code",
   "execution_count": 13,
   "metadata": {},
   "outputs": [],
   "source": [
    "import numpy as np\n",
    "import pandas as pd\n",
    "import scanpy as sc"
   ]
  },
  {
   "cell_type": "markdown",
   "metadata": {},
   "source": [
    "#### Importing the required packages for MDV set up and visualisation"
   ]
  },
  {
   "cell_type": "code",
   "execution_count": 14,
   "metadata": {},
   "outputs": [],
   "source": [
    "import os\n",
    "import json\n",
    "from mdvtools.mdvproject import MDVProject\n",
    "from mdvtools.charts.row_chart import RowChart\n",
    "from mdvtools.charts.dot_plot import DotPlot\n",
    "from mdvtools.charts.histogram_plot import HistogramPlot\n",
    "from mdvtools.charts.scatter_plot_3D import ScatterPlot3D\n",
    "from mdvtools.charts.scatter_plot import ScatterPlot\n",
    "from mdvtools.charts.table_plot import TablePlot"
   ]
  },
  {
   "cell_type": "markdown",
   "metadata": {},
   "source": [
    "## Data analysis section"
   ]
  },
  {
   "cell_type": "code",
   "execution_count": 15,
   "metadata": {},
   "outputs": [
    {
     "name": "stdout",
     "output_type": "stream",
     "text": [
      "scanpy==1.10.1 anndata==0.9.2 umap==0.5.6 numpy==1.26.4 scipy==1.13.0 pandas==2.2.2 scikit-learn==1.4.2 statsmodels==0.14.2 igraph==0.11.4 pynndescent==0.5.12\n"
     ]
    }
   ],
   "source": [
    "# scanpy parameters for feedback level setting\n",
    "sc.settings.verbosity = 3  # verbosity: errors (0), warnings (1), info (2), hints (3)\n",
    "sc.logging.print_header() # printing a header of introductory information about the environment/library used"
   ]
  },
  {
   "cell_type": "code",
   "execution_count": 16,
   "metadata": {},
   "outputs": [],
   "source": [
    "# reading the 3k 10x data\n",
    "\n",
    "adata = sc.read_h5ad(\"../../../../../Documents/TAURUS_data/bcell_viz_ready_revised.h5ad\",)"
   ]
  },
  {
   "cell_type": "markdown",
   "metadata": {},
   "source": [
    "#### Data preprocessing"
   ]
  },
  {
   "cell_type": "code",
   "execution_count": 17,
   "metadata": {},
   "outputs": [
    {
     "name": "stdout",
     "output_type": "stream",
     "text": [
      "normalizing counts per cell\n",
      "    finished (0:00:00)\n"
     ]
    }
   ],
   "source": [
    "# Saving count data\n",
    "adata.layers[\"counts\"] = adata.X.copy()\n",
    "\n",
    "# total-count normalising the anndata object to 10,000 reads per cell, so that counts become comparable among cells\n",
    "sc.pp.normalize_total(adata, target_sum=1e4)\n",
    "\n",
    "# logarithmising the data\n",
    "sc.pp.log1p(adata)\n"
   ]
  },
  {
   "cell_type": "markdown",
   "metadata": {},
   "source": [
    "#### Converting the anndata object to pandas dataframes"
   ]
  },
  {
   "cell_type": "code",
   "execution_count": 18,
   "metadata": {},
   "outputs": [],
   "source": [
    "# cells dataframe \n",
    "\n",
    "cells_df = pd.DataFrame(adata.obs)\n",
    "\n",
    "# adding the umap data to the cells dataframe\n",
    "umap_np = np.array(adata.obsm[\"X_umap\"])\n",
    "cells_df[\"UMAP 1\"] = umap_np[:, 0]\n",
    "cells_df[\"UMAP 2\"] = umap_np[:, 1]\n",
    "\n",
    "cells_df[\"Cell ID\"] = adata.obs.index\n",
    "\n",
    "cells_df.rename(columns={\"sub_bucket\": \"Cell type\", \"final_analysis\": \"Cell state\", \"MM_scaled\": \"Inflammation score\", \n",
    "                         \"sample_id\": \"Sample ID\"}, inplace=True)\n",
    "\n",
    "cells_df = cells_df.iloc[:, [0,16,17,18,19,20,21,22,23,24,25,26,27]]\n",
    "\n",
    "\n",
    "# genes dataframe\n",
    "gene_table = adata.var\n",
    "gene_table[\"gene_ids\"]=gene_table.index"
   ]
  },
  {
   "cell_type": "markdown",
   "metadata": {},
   "source": [
    "## MDV charts set up section\n",
    "\n",
    "The different types of charts are defined in the mdvtools/charts/ folder. These are:\n",
    "1. Abundance box plot\n",
    "2. Box plot\n",
    "3. Density scatter plot\n",
    "4. Dot plot\n",
    "5. Heatmap plot\n",
    "6. Histogram plot\n",
    "7. Multi-line plot\n",
    "8. Ring chart\n",
    "9. Row chart\n",
    "10. Sankey plot\n",
    "11. Scatter plot\n",
    "12. Scatter plot 3D\n",
    "13. Stacked row plot\n",
    "14. Table\n",
    "15. Violin plot\n",
    "16. Wordcloud"
   ]
  },
  {
   "cell_type": "code",
   "execution_count": 19,
   "metadata": {},
   "outputs": [],
   "source": [
    "# Cells charts\n",
    "\n",
    "# creating a row chart based on the Row Chart implementation to show the leiden clustering\n",
    "# row_chart = RowChart(\n",
    "#     title=\"leiden\",\n",
    "#     param=\"leiden\",\n",
    "#     position=[380, 270],\n",
    "#     size=[260, 260]\n",
    "# )\n",
    "\n",
    "# # configuring the row chart\n",
    "# row_chart.set_axis_properties(\"x\", {\"textSize\": 13, \"label\": \"\", \"tickfont\": 10})\n",
    "\n",
    "\n",
    "#creating a dot plot based on the DotPlot implementation to show the gene expression of selected gene markers\n",
    "# dot_plot = DotPlot(\n",
    "#     title=\"leiden\",\n",
    "#     params=[\"Disease\", \"HSPE1\", \"HSPD1\", \"ICOS\", \"ID1\", \"ID2\", \"ID3\", \"ID4\"],\n",
    "#     size=[400, 250],\n",
    "#     position=[10, 10]\n",
    "# )\n",
    "\n",
    "# # configuring the dot plot\n",
    "# dot_plot.set_axis_properties(\"x\", {\"label\": \"\", \"textSize\": 13, \"tickfont\": 10})\n",
    "# dot_plot.set_axis_properties(\"y\", {\"label\": \"\", \"textSize\": 13, \"tickfont\": 10})\n",
    "# dot_plot.set_axis_properties(\"ry\", {\"label\": \"\", \"textSize\": 13, \"tickfont\": 10})\n",
    "# dot_plot.set_color_scale(log_scale=False)\n",
    "# dot_plot.set_color_legend(True, [40, 10])\n",
    "# dot_plot.set_fraction_legend(True, [0, 0])\n",
    "\n",
    "\n",
    "# # creating a histogram plot based on the HistogramPlot implementation to show the distribution of the number of genes per counts\n",
    "# histogram_plot = HistogramPlot(\n",
    "#     title=\"n_genes_by_counts\",\n",
    "#     param=\"n_genes_by_counts\",\n",
    "#     bin_number=17,\n",
    "#     display_min=0,\n",
    "#     display_max=2500,\n",
    "#     size=[360, 250],\n",
    "#     position=[10, 280]\n",
    "# )\n",
    "\n",
    "# # configuring the histogram\n",
    "# histogram_plot.set_x_axis(size=30, label=\"n_genes_by_counts\", textsize=13, tickfont=10)\n",
    "# histogram_plot.set_y_axis(size=45, label=\"frequency\", textsize=13, tickfont=10, rotate_labels=False)\n",
    "\n",
    "# creating a scatter plot based on the ScatterPlot3D implementation to show the 3 PCA clustering components\n",
    "scatter_plot = ScatterPlot(\n",
    "    title=\"B cells\",\n",
    "    params=[\"UMAP 1\", \"UMAP 2\"],\n",
    "    size=[250, 250],\n",
    "    position=[420, 10],\n",
    "    default_color=\"#377eb8\",\n",
    "    brush=\"default\",\n",
    "    on_filter=\"hide\",\n",
    "    radius=5,\n",
    "    opacity=0.8,\n",
    ")\n",
    "\n",
    "# configuring the scatter plot\n",
    "#scatter_plot.set_color_by(\"leiden\")\n"
   ]
  },
  {
   "cell_type": "code",
   "execution_count": 20,
   "metadata": {},
   "outputs": [],
   "source": [
    "# Genes charts\n",
    "\n",
    "# creating a scatter plot using the ScatterPlot implementation to show the 2 PCA clustering components\n",
    "# scatter2D_plot = ScatterPlot(\n",
    "#     title=\"PCs_1 x PCs_2\",\n",
    "#     params=[\"PCs_1\", \"PCs_2\"],\n",
    "#     size=[250, 250],\n",
    "#     position=[270, 10]\n",
    "# )\n",
    "\n",
    "# # configuring the scatter plot\n",
    "# scatter2D_plot.set_default_color(\"#377eb8\")\n",
    "# scatter2D_plot.set_brush(\"poly\")\n",
    "# scatter2D_plot.set_opacity(0.8)\n",
    "# scatter2D_plot.set_radius(2)\n",
    "# scatter2D_plot.set_color_legend(display=True, position=[20, 1])\n",
    "# scatter2D_plot.set_axis_properties(\"x\", {\"label\": \"PCs_1\", \"textSize\": 13, \"tickfont\": 10})\n",
    "# scatter2D_plot.set_axis_properties(\"y\", {\"label\": \"PCs_2\", \"textSize\": 13, \"tickfont\": 10})\n",
    "# scatter2D_plot.set_color_by(\"dispersions\")\n",
    "\n",
    "# # creating a table using the TablePlot implementation to show all the data associated with the genes dataframe\n",
    "# table_plot = TablePlot(\n",
    "#     title=\"Data table\",\n",
    "#     params= gene_table.columns.values.tolist() ,\n",
    "#     size=[250, 500],\n",
    "#     position=[10, 10]\n",
    "# )\n",
    "\n",
    "# creating a histogram using the HistogramPlot implementation to show a histogram of the number of genes per cell distribution\n",
    "# histogram_plot_2 = HistogramPlot(\n",
    "#     title=\"n_cells\",\n",
    "#     param=\"n_cells\",\n",
    "#     bin_number=17,\n",
    "#     display_min=0,\n",
    "#     display_max=2500,\n",
    "#     size=[240, 240],\n",
    "#     position=[270, 280]\n",
    "# )\n",
    "\n",
    "# # configuring the histogram\n",
    "# histogram_plot_2.set_x_axis(size=30, label=\"n_cells\", textsize=13, tickfont=10)\n",
    "# histogram_plot_2.set_y_axis(size=45, label=\"frequency\", textsize=13, tickfont=10, rotate_labels=False)"
   ]
  },
  {
   "cell_type": "markdown",
   "metadata": {},
   "source": [
    "## Set up and serve the MDV project"
   ]
  },
  {
   "cell_type": "code",
   "execution_count": 21,
   "metadata": {},
   "outputs": [],
   "source": [
    "# setting up and serving the MDV project\n",
    "base = os.path.expanduser('~/mdv')\n",
    "project_path = os.path.join(base, 'taurus') # defining the location where the project metadata will be stored\n",
    "p = MDVProject(os.path.expanduser(project_path), delete_existing=True)\n",
    "\n",
    "# adding the two data sources to the project\n",
    "p.add_datasource(\"cells\", cells_df)\n",
    "p.add_datasource(\"genes\", gene_table)\n",
    "\n",
    "# creating the link between the two datasets so that selecting a subset of genes to add the expression in cells is enabled\n",
    "p.add_rows_as_columns_link(\"cells\",\"genes\",\"gene_ids\",\"Gene Expression\")\n",
    "p.add_rows_as_columns_subgroup(\"cells\",\"genes\",\"Gene scores\",adata.layers[\"counts\"].toarray()) #add the gene expression \n",
    "\n",
    "# converting the chart implementation outputs to JSON and setting up the project view\n",
    "list_charts_cells = []\n",
    "list_charts_genes = []\n",
    "\n",
    "# cells panel\n",
    "# list_charts_cells.append(row_chart.plot_data)\n",
    "#list_charts_cells.append(dot_plot.plot_data)\n",
    "# list_charts_cells.append(histogram_plot.plot_data)\n",
    "list_charts_cells.append(scatter_plot.plot_data)\n",
    "\n",
    "# genes panel\n",
    "# list_charts_genes.append(table_plot.plot_data)\n",
    "# list_charts_genes.append(scatter2D_plot.plot_data)\n",
    "#list_charts_genes.append(histogram_plot_2.plot_data)\n",
    "\n",
    "# setting the config combining the two panels\n",
    "view_config = {'initialCharts': {\"cells\": list_charts_cells, \"genes\":list_charts_genes}}\n",
    "\n",
    "# creating the link between the two datasets so that selecting a subset of genes to add the expression in cells is enabled\n",
    "#p.add_rows_as_columns_link(\"cells\",\"genes\",\"gene_ids\",\"Gene Expression\")\n",
    "#p.add_rows_as_columns_subgroup(\"cells\",\"genes\",\"Gene scores\",adata.layers[\"counts\"].toarray()) #add the gene expression \n",
    "\n",
    "# adding the view to the project configuration\n",
    "p.set_view(\"default\", view_config)\n",
    "p.set_editable(True)"
   ]
  },
  {
   "cell_type": "code",
   "execution_count": 22,
   "metadata": {},
   "outputs": [
    {
     "name": "stdout",
     "output_type": "stream",
     "text": [
      "created Flask <Flask 'mdvtools.server'>\n",
      " * Serving Flask app 'mdvtools.server'\n",
      " * Debug mode: on\n"
     ]
    },
    {
     "name": "stderr",
     "output_type": "stream",
     "text": [
      "WARNING: This is a development server. Do not use it in a production deployment. Use a production WSGI server instead.\n",
      " * Running on all addresses (0.0.0.0)\n",
      " * Running on http://127.0.0.1:5050\n",
      " * Running on http://129.67.46.115:5050\n",
      "Press CTRL+C to quit\n",
      "127.0.0.1 - - [29/Oct/2024 10:37:13] \"GET / HTTP/1.1\" 200 -\n"
     ]
    },
    {
     "name": "stdout",
     "output_type": "stream",
     "text": [
      "recieved request to project_index\n"
     ]
    },
    {
     "name": "stderr",
     "output_type": "stream",
     "text": [
      "127.0.0.1 - - [29/Oct/2024 10:37:13] \"GET /static/assets/mdv.css HTTP/1.1\" 200 -\n",
      "127.0.0.1 - - [29/Oct/2024 10:37:13] \"GET /static/js/mdv.js HTTP/1.1\" 200 -\n",
      "127.0.0.1 - - [29/Oct/2024 10:37:13] \"GET /static/assets/createSvgIcon-6gFOQ5xZ.js HTTP/1.1\" 200 -\n",
      "127.0.0.1 - - [29/Oct/2024 10:37:13] \"GET /static/assets/csvWorker-e8cMUEqV.js HTTP/1.1\" 200 -\n",
      "127.0.0.1 - - [29/Oct/2024 10:37:13] \"GET /datasources.json HTTP/1.1\" 200 -\n",
      "127.0.0.1 - - [29/Oct/2024 10:37:13] \"GET /state.json HTTP/1.1\" 200 -\n",
      "127.0.0.1 - - [29/Oct/2024 10:37:13] \"GET /views.json HTTP/1.1\" 200 -\n",
      "127.0.0.1 - - [29/Oct/2024 10:37:13] \"POST /get_view HTTP/1.1\" 200 -\n",
      "127.0.0.1 - - [29/Oct/2024 10:37:13] \"GET /static/assets/filteredIndexWorker-CEl1713S.js HTTP/1.1\" 200 -\n",
      "127.0.0.1 - - [29/Oct/2024 10:37:13] \"GET /static/assets/filteredIndexWorker-CEl1713S.js HTTP/1.1\" 304 -\n",
      "127.0.0.1 - - [29/Oct/2024 10:37:13] \"POST /get_data HTTP/1.1\" 200 -\n",
      "127.0.0.1 - - [29/Oct/2024 10:37:13] \"GET /static/img/fa-solid-900.woff2 HTTP/1.1\" 200 -\n",
      "127.0.0.1 - - [29/Oct/2024 10:37:13] \"GET /static/assets/binWorker-DIC2QqPk.js HTTP/1.1\" 200 -\n",
      "127.0.0.1 - - [29/Oct/2024 10:37:25] \"GET /static/assets/binWorker-DIC2QqPk.js HTTP/1.1\" 304 -\n",
      "127.0.0.1 - - [29/Oct/2024 10:37:30] \"POST /get_data HTTP/1.1\" 200 -\n",
      "127.0.0.1 - - [29/Oct/2024 10:37:38] \"GET /static/img/roboto-latin-400-normal.woff2 HTTP/1.1\" 200 -\n",
      "127.0.0.1 - - [29/Oct/2024 10:37:38] \"GET /static/img/roboto-latin-500-normal.woff2 HTTP/1.1\" 200 -\n",
      "127.0.0.1 - - [29/Oct/2024 10:37:43] \"POST /get_data HTTP/1.1\" 200 -\n",
      "127.0.0.1 - - [29/Oct/2024 10:38:00] \"POST /get_data HTTP/1.1\" 200 -\n",
      "127.0.0.1 - - [29/Oct/2024 10:38:00] \"GET /static/assets/catColWorker-BRK20MZB.js HTTP/1.1\" 200 -\n",
      "127.0.0.1 - - [29/Oct/2024 10:40:07] \"POST /get_data HTTP/1.1\" 200 -\n",
      "127.0.0.1 - - [29/Oct/2024 10:40:07] \"GET /static/assets/catWorker-D5lhlpxE.js HTTP/1.1\" 200 -\n",
      "127.0.0.1 - - [29/Oct/2024 10:41:01] \"GET /static/assets/catWorker-D5lhlpxE.js HTTP/1.1\" 304 -\n",
      "127.0.0.1 - - [29/Oct/2024 10:41:37] \"POST /save_state HTTP/1.1\" 200 -\n",
      "127.0.0.1 - - [29/Oct/2024 10:41:56] \"GET /static/assets/boxPlotWorker-BvOiGWqU.js HTTP/1.1\" 200 -\n",
      "127.0.0.1 - - [29/Oct/2024 10:41:56] \"GET /static/assets/binWorker-DIC2QqPk.js HTTP/1.1\" 304 -\n",
      "127.0.0.1 - - [29/Oct/2024 10:45:36] \"POST /get_data HTTP/1.1\" 200 -\n",
      "127.0.0.1 - - [29/Oct/2024 10:45:36] \"POST /get_data HTTP/1.1\" 200 -\n",
      "127.0.0.1 - - [29/Oct/2024 10:45:36] \"POST /get_data HTTP/1.1\" 200 -\n",
      "127.0.0.1 - - [29/Oct/2024 10:45:36] \"GET /static/assets/catWorker-D5lhlpxE.js HTTP/1.1\" 304 -\n",
      "127.0.0.1 - - [29/Oct/2024 10:45:36] \"GET /static/assets/catWorker-D5lhlpxE.js HTTP/1.1\" 304 -\n",
      "127.0.0.1 - - [29/Oct/2024 10:45:36] \"GET /static/assets/catWorker-D5lhlpxE.js HTTP/1.1\" 304 -\n",
      "127.0.0.1 - - [29/Oct/2024 10:45:36] \"GET /static/assets/binWorker-DIC2QqPk.js HTTP/1.1\" 304 -\n",
      "127.0.0.1 - - [29/Oct/2024 10:45:36] \"GET /static/assets/catWorker-D5lhlpxE.js HTTP/1.1\" 304 -\n",
      "127.0.0.1 - - [29/Oct/2024 10:45:36] \"GET /static/assets/catWorker-D5lhlpxE.js HTTP/1.1\" 304 -\n",
      "127.0.0.1 - - [29/Oct/2024 10:45:36] \"GET /static/assets/catWorker-D5lhlpxE.js HTTP/1.1\" 304 -\n",
      "127.0.0.1 - - [29/Oct/2024 10:45:36] \"GET /static/assets/catWorker-D5lhlpxE.js HTTP/1.1\" 304 -\n",
      "127.0.0.1 - - [29/Oct/2024 10:45:36] \"GET /static/assets/catWorker-D5lhlpxE.js HTTP/1.1\" 304 -\n",
      "127.0.0.1 - - [29/Oct/2024 10:45:36] \"GET /static/assets/rawHistogramWorker-CYPeI1fE.js HTTP/1.1\" 200 -\n",
      "127.0.0.1 - - [29/Oct/2024 10:45:36] \"GET /static/assets/catWorker-D5lhlpxE.js HTTP/1.1\" 304 -\n",
      "127.0.0.1 - - [29/Oct/2024 10:45:36] \"GET /static/assets/catWorker-D5lhlpxE.js HTTP/1.1\" 304 -\n",
      "127.0.0.1 - - [29/Oct/2024 10:48:09] \"GET / HTTP/1.1\" 200 -\n",
      "127.0.0.1 - - [29/Oct/2024 10:48:09] \"GET /static/assets/mdv.css HTTP/1.1\" 304 -\n",
      "127.0.0.1 - - [29/Oct/2024 10:48:09] \"GET /static/js/mdv.js HTTP/1.1\" 304 -\n",
      "127.0.0.1 - - [29/Oct/2024 10:48:09] \"GET /static/assets/createSvgIcon-6gFOQ5xZ.js HTTP/1.1\" 304 -\n",
      "127.0.0.1 - - [29/Oct/2024 10:48:09] \"GET /static/assets/csvWorker-e8cMUEqV.js HTTP/1.1\" 304 -\n",
      "127.0.0.1 - - [29/Oct/2024 10:48:09] \"GET /datasources.json HTTP/1.1\" 304 -\n",
      "127.0.0.1 - - [29/Oct/2024 10:48:09] \"GET /state.json HTTP/1.1\" 200 -\n",
      "127.0.0.1 - - [29/Oct/2024 10:48:09] \"GET /views.json HTTP/1.1\" 200 -\n",
      "127.0.0.1 - - [29/Oct/2024 10:48:09] \"POST /get_view HTTP/1.1\" 200 -\n",
      "127.0.0.1 - - [29/Oct/2024 10:48:09] \"GET /static/assets/filteredIndexWorker-CEl1713S.js HTTP/1.1\" 304 -\n",
      "127.0.0.1 - - [29/Oct/2024 10:48:09] \"GET /static/img/fa-solid-900.woff2 HTTP/1.1\" 304 -\n"
     ]
    },
    {
     "name": "stdout",
     "output_type": "stream",
     "text": [
      "recieved request to project_index\n"
     ]
    },
    {
     "name": "stderr",
     "output_type": "stream",
     "text": [
      "127.0.0.1 - - [29/Oct/2024 10:48:09] \"GET /static/assets/filteredIndexWorker-CEl1713S.js HTTP/1.1\" 304 -\n",
      "127.0.0.1 - - [29/Oct/2024 10:48:09] \"POST /get_data HTTP/1.1\" 200 -\n",
      "127.0.0.1 - - [29/Oct/2024 10:48:09] \"POST /get_data HTTP/1.1\" 200 -\n",
      "127.0.0.1 - - [29/Oct/2024 10:48:09] \"POST /get_data HTTP/1.1\" 200 -\n",
      "127.0.0.1 - - [29/Oct/2024 10:48:09] \"POST /get_data HTTP/1.1\" 200 -\n",
      "127.0.0.1 - - [29/Oct/2024 10:48:09] \"GET /static/assets/binWorker-DIC2QqPk.js HTTP/1.1\" 304 -\n",
      "127.0.0.1 - - [29/Oct/2024 10:48:09] \"GET /static/assets/catWorker-D5lhlpxE.js HTTP/1.1\" 304 -\n",
      "127.0.0.1 - - [29/Oct/2024 10:48:09] \"GET /static/assets/binWorker-DIC2QqPk.js HTTP/1.1\" 304 -\n",
      "127.0.0.1 - - [29/Oct/2024 10:48:09] \"GET /static/assets/catColWorker-BRK20MZB.js HTTP/1.1\" 304 -\n",
      "127.0.0.1 - - [29/Oct/2024 10:48:36] \"GET /static/assets/binWorker-DIC2QqPk.js HTTP/1.1\" 304 -\n",
      "127.0.0.1 - - [29/Oct/2024 10:48:36] \"GET /static/assets/boxPlotWorker-BvOiGWqU.js HTTP/1.1\" 304 -\n",
      "127.0.0.1 - - [29/Oct/2024 10:48:50] \"GET /static/img/roboto-latin-400-normal.woff2 HTTP/1.1\" 304 -\n",
      "127.0.0.1 - - [29/Oct/2024 10:49:32] \"GET /static/img/roboto-latin-500-normal.woff2 HTTP/1.1\" 304 -\n",
      "127.0.0.1 - - [29/Oct/2024 10:50:48] \"POST /save_state HTTP/1.1\" 200 -\n",
      "127.0.0.1 - - [29/Oct/2024 10:51:20] \"POST /get_data HTTP/1.1\" 200 -\n",
      "127.0.0.1 - - [29/Oct/2024 10:51:20] \"POST /get_data HTTP/1.1\" 200 -\n",
      "127.0.0.1 - - [29/Oct/2024 10:51:20] \"POST /get_data HTTP/1.1\" 200 -\n",
      "127.0.0.1 - - [29/Oct/2024 10:51:20] \"GET /static/assets/catWorker-D5lhlpxE.js HTTP/1.1\" 304 -\n",
      "127.0.0.1 - - [29/Oct/2024 10:51:20] \"GET /static/assets/catWorker-D5lhlpxE.js HTTP/1.1\" 304 -\n",
      "127.0.0.1 - - [29/Oct/2024 10:51:20] \"GET /static/assets/binWorker-DIC2QqPk.js HTTP/1.1\" 304 -\n",
      "127.0.0.1 - - [29/Oct/2024 10:51:20] \"GET /static/assets/catWorker-D5lhlpxE.js HTTP/1.1\" 304 -\n",
      "127.0.0.1 - - [29/Oct/2024 10:51:20] \"GET /static/assets/catWorker-D5lhlpxE.js HTTP/1.1\" 304 -\n",
      "127.0.0.1 - - [29/Oct/2024 10:51:20] \"GET /static/assets/catWorker-D5lhlpxE.js HTTP/1.1\" 304 -\n",
      "127.0.0.1 - - [29/Oct/2024 10:51:20] \"GET /static/assets/rawHistogramWorker-CYPeI1fE.js HTTP/1.1\" 304 -\n",
      "127.0.0.1 - - [29/Oct/2024 10:51:20] \"GET /static/assets/catWorker-D5lhlpxE.js HTTP/1.1\" 304 -\n",
      "127.0.0.1 - - [29/Oct/2024 10:51:20] \"GET /static/assets/catWorker-D5lhlpxE.js HTTP/1.1\" 304 -\n",
      "127.0.0.1 - - [29/Oct/2024 10:51:20] \"GET /static/assets/catWorker-D5lhlpxE.js HTTP/1.1\" 304 -\n",
      "127.0.0.1 - - [29/Oct/2024 10:51:20] \"GET /static/assets/catWorker-D5lhlpxE.js HTTP/1.1\" 304 -\n",
      "127.0.0.1 - - [29/Oct/2024 10:51:20] \"GET /static/assets/catWorker-D5lhlpxE.js HTTP/1.1\" 304 -\n",
      "127.0.0.1 - - [29/Oct/2024 10:57:31] \"GET /datasources.json HTTP/1.1\" 304 -\n",
      "127.0.0.1 - - [29/Oct/2024 10:57:31] \"GET /views.json HTTP/1.1\" 200 -\n",
      "127.0.0.1 - - [29/Oct/2024 10:57:31] \"GET /state.json HTTP/1.1\" 200 -\n",
      "127.0.0.1 - - [29/Oct/2024 10:57:33] \"GET /datasources.json HTTP/1.1\" 304 -\n",
      "127.0.0.1 - - [29/Oct/2024 10:57:33] \"GET /views.json HTTP/1.1\" 304 -\n",
      "127.0.0.1 - - [29/Oct/2024 10:57:33] \"GET /state.json HTTP/1.1\" 304 -\n",
      "127.0.0.1 - - [29/Oct/2024 11:01:57] \"POST /save_state HTTP/1.1\" 200 -\n",
      "127.0.0.1 - - [29/Oct/2024 11:16:51] \"POST /get_data HTTP/1.1\" 200 -\n",
      "127.0.0.1 - - [29/Oct/2024 11:16:57] \"POST /get_data HTTP/1.1\" 200 -\n",
      "127.0.0.1 - - [29/Oct/2024 11:17:01] \"POST /get_data HTTP/1.1\" 200 -\n",
      "127.0.0.1 - - [29/Oct/2024 11:17:04] \"POST /get_data HTTP/1.1\" 200 -\n",
      "127.0.0.1 - - [29/Oct/2024 11:18:03] \"POST /get_data HTTP/1.1\" 200 -\n",
      "127.0.0.1 - - [29/Oct/2024 11:18:09] \"POST /get_data HTTP/1.1\" 200 -\n",
      "127.0.0.1 - - [29/Oct/2024 11:18:18] \"GET /?view=default HTTP/1.1\" 200 -\n",
      "127.0.0.1 - - [29/Oct/2024 11:18:18] \"GET /static/js/mdv.js HTTP/1.1\" 304 -\n",
      "127.0.0.1 - - [29/Oct/2024 11:18:18] \"GET /static/assets/mdv.css HTTP/1.1\" 304 -\n",
      "127.0.0.1 - - [29/Oct/2024 11:18:18] \"GET /static/assets/createSvgIcon-6gFOQ5xZ.js HTTP/1.1\" 304 -\n",
      "127.0.0.1 - - [29/Oct/2024 11:18:18] \"GET /static/assets/csvWorker-e8cMUEqV.js HTTP/1.1\" 304 -\n",
      "127.0.0.1 - - [29/Oct/2024 11:18:18] \"GET /datasources.json HTTP/1.1\" 304 -\n"
     ]
    },
    {
     "name": "stdout",
     "output_type": "stream",
     "text": [
      "recieved request to project_index\n"
     ]
    },
    {
     "name": "stderr",
     "output_type": "stream",
     "text": [
      "127.0.0.1 - - [29/Oct/2024 11:18:18] \"GET /state.json HTTP/1.1\" 200 -\n",
      "127.0.0.1 - - [29/Oct/2024 11:18:18] \"GET /views.json HTTP/1.1\" 200 -\n",
      "127.0.0.1 - - [29/Oct/2024 11:18:18] \"POST /get_view HTTP/1.1\" 200 -\n",
      "127.0.0.1 - - [29/Oct/2024 11:18:18] \"GET /static/assets/filteredIndexWorker-CEl1713S.js HTTP/1.1\" 304 -\n",
      "127.0.0.1 - - [29/Oct/2024 11:18:18] \"GET /static/img/fa-solid-900.woff2 HTTP/1.1\" 304 -\n",
      "127.0.0.1 - - [29/Oct/2024 11:18:18] \"GET /static/assets/filteredIndexWorker-CEl1713S.js HTTP/1.1\" 304 -\n",
      "127.0.0.1 - - [29/Oct/2024 11:18:18] \"POST /get_data HTTP/1.1\" 200 -\n",
      "127.0.0.1 - - [29/Oct/2024 11:18:18] \"POST /get_data HTTP/1.1\" 200 -\n",
      "127.0.0.1 - - [29/Oct/2024 11:18:18] \"POST /get_data HTTP/1.1\" 200 -\n",
      "127.0.0.1 - - [29/Oct/2024 11:18:18] \"POST /get_data HTTP/1.1\" 200 -\n",
      "127.0.0.1 - - [29/Oct/2024 11:18:18] \"GET /static/assets/binWorker-DIC2QqPk.js HTTP/1.1\" 304 -\n",
      "127.0.0.1 - - [29/Oct/2024 11:18:18] \"GET /static/assets/binWorker-DIC2QqPk.js HTTP/1.1\" 304 -\n",
      "127.0.0.1 - - [29/Oct/2024 11:18:18] \"GET /static/img/roboto-latin-400-normal.woff2 HTTP/1.1\" 304 -\n",
      "127.0.0.1 - - [29/Oct/2024 11:18:19] \"POST /get_data HTTP/1.1\" 200 -\n",
      "127.0.0.1 - - [29/Oct/2024 11:18:19] \"POST /get_data HTTP/1.1\" 200 -\n",
      "127.0.0.1 - - [29/Oct/2024 11:18:19] \"GET /static/assets/catWorker-D5lhlpxE.js HTTP/1.1\" 304 -\n",
      "127.0.0.1 - - [29/Oct/2024 11:18:19] \"GET /static/assets/binWorker-DIC2QqPk.js HTTP/1.1\" 304 -\n",
      "127.0.0.1 - - [29/Oct/2024 11:18:19] \"GET /static/assets/catWorker-D5lhlpxE.js HTTP/1.1\" 304 -\n",
      "127.0.0.1 - - [29/Oct/2024 11:18:19] \"GET /static/assets/catWorker-D5lhlpxE.js HTTP/1.1\" 304 -\n",
      "127.0.0.1 - - [29/Oct/2024 11:18:19] \"GET /static/assets/rawHistogramWorker-CYPeI1fE.js HTTP/1.1\" 304 -\n",
      "127.0.0.1 - - [29/Oct/2024 11:18:19] \"GET /static/assets/catWorker-D5lhlpxE.js HTTP/1.1\" 304 -\n",
      "127.0.0.1 - - [29/Oct/2024 11:18:19] \"GET /static/assets/catWorker-D5lhlpxE.js HTTP/1.1\" 304 -\n",
      "127.0.0.1 - - [29/Oct/2024 11:18:19] \"GET /static/assets/catWorker-D5lhlpxE.js HTTP/1.1\" 304 -\n",
      "127.0.0.1 - - [29/Oct/2024 11:18:19] \"GET /static/assets/catWorker-D5lhlpxE.js HTTP/1.1\" 304 -\n",
      "127.0.0.1 - - [29/Oct/2024 11:18:19] \"GET /static/assets/catWorker-D5lhlpxE.js HTTP/1.1\" 304 -\n",
      "127.0.0.1 - - [29/Oct/2024 11:18:19] \"GET /static/assets/catWorker-D5lhlpxE.js HTTP/1.1\" 304 -\n",
      "127.0.0.1 - - [29/Oct/2024 11:18:19] \"GET /static/assets/catWorker-D5lhlpxE.js HTTP/1.1\" 304 -\n",
      "127.0.0.1 - - [29/Oct/2024 11:18:19] \"GET /static/assets/catColWorker-BRK20MZB.js HTTP/1.1\" 304 -\n",
      "127.0.0.1 - - [29/Oct/2024 11:18:19] \"GET /static/assets/binWorker-DIC2QqPk.js HTTP/1.1\" 304 -\n",
      "127.0.0.1 - - [29/Oct/2024 11:18:19] \"GET /static/assets/boxPlotWorker-BvOiGWqU.js HTTP/1.1\" 304 -\n",
      "127.0.0.1 - - [29/Oct/2024 11:18:19] \"GET /static/assets/catWorker-D5lhlpxE.js HTTP/1.1\" 304 -\n",
      "127.0.0.1 - - [29/Oct/2024 11:19:55] \"POST /get_data HTTP/1.1\" 200 -\n",
      "127.0.0.1 - - [29/Oct/2024 11:22:43] \"GET /static/img/roboto-latin-500-normal.woff2 HTTP/1.1\" 304 -\n",
      "127.0.0.1 - - [29/Oct/2024 12:53:44] \"GET /?view=default HTTP/1.1\" 200 -\n",
      "127.0.0.1 - - [29/Oct/2024 12:53:44] \"GET /static/assets/mdv.css HTTP/1.1\" 200 -\n",
      "127.0.0.1 - - [29/Oct/2024 12:53:44] \"GET /static/js/mdv.js HTTP/1.1\" 200 -\n",
      "127.0.0.1 - - [29/Oct/2024 12:53:44] \"GET /static/assets/createSvgIcon-6gFOQ5xZ.js HTTP/1.1\" 200 -\n",
      "127.0.0.1 - - [29/Oct/2024 12:53:44] \"GET /static/assets/csvWorker-e8cMUEqV.js HTTP/1.1\" 304 -\n",
      "127.0.0.1 - - [29/Oct/2024 12:53:44] \"GET /datasources.json HTTP/1.1\" 200 -\n",
      "127.0.0.1 - - [29/Oct/2024 12:53:45] \"GET /state.json HTTP/1.1\" 304 -\n",
      "127.0.0.1 - - [29/Oct/2024 12:53:45] \"GET /views.json HTTP/1.1\" 304 -\n",
      "127.0.0.1 - - [29/Oct/2024 12:53:45] \"POST /get_view HTTP/1.1\" 200 -\n",
      "127.0.0.1 - - [29/Oct/2024 12:53:45] \"GET /static/assets/filteredIndexWorker-CEl1713S.js HTTP/1.1\" 304 -\n",
      "127.0.0.1 - - [29/Oct/2024 12:53:45] \""
     ]
    },
    {
     "name": "stdout",
     "output_type": "stream",
     "text": [
      "recieved request to project_index\n"
     ]
    },
    {
     "name": "stderr",
     "output_type": "stream",
     "text": [
      "GET /static/assets/filteredIndexWorker-CEl1713S.js HTTP/1.1\" 304 -\n",
      "127.0.0.1 - - [29/Oct/2024 12:53:45] \"GET /static/img/fa-solid-900.woff2 HTTP/1.1\" 200 -\n",
      "127.0.0.1 - - [29/Oct/2024 12:53:45] \"POST /get_data HTTP/1.1\" 200 -\n",
      "127.0.0.1 - - [29/Oct/2024 12:53:45] \"POST /get_data HTTP/1.1\" 200 -\n",
      "127.0.0.1 - - [29/Oct/2024 12:53:45] \"POST /get_data HTTP/1.1\" 200 -\n",
      "127.0.0.1 - - [29/Oct/2024 12:53:45] \"POST /get_data HTTP/1.1\" 200 -\n",
      "127.0.0.1 - - [29/Oct/2024 12:53:45] \"GET /static/assets/binWorker-DIC2QqPk.js HTTP/1.1\" 304 -\n",
      "127.0.0.1 - - [29/Oct/2024 12:53:45] \"GET /static/assets/binWorker-DIC2QqPk.js HTTP/1.1\" 304 -\n",
      "127.0.0.1 - - [29/Oct/2024 12:53:45] \"POST /get_data HTTP/1.1\" 200 -\n",
      "127.0.0.1 - - [29/Oct/2024 12:53:45] \"POST /get_data HTTP/1.1\" 200 -\n",
      "127.0.0.1 - - [29/Oct/2024 12:53:45] \"GET /static/img/roboto-latin-400-normal.woff2 HTTP/1.1\" 200 -\n",
      "127.0.0.1 - - [29/Oct/2024 12:53:45] \"GET /static/assets/binWorker-DIC2QqPk.js HTTP/1.1\" 304 -\n",
      "127.0.0.1 - - [29/Oct/2024 12:53:45] \"GET /static/assets/catWorker-D5lhlpxE.js HTTP/1.1\" 304 -\n",
      "127.0.0.1 - - [29/Oct/2024 12:53:45] \"GET /static/assets/catWorker-D5lhlpxE.js HTTP/1.1\" 304 -\n",
      "127.0.0.1 - - [29/Oct/2024 12:53:45] \"GET /static/assets/catWorker-D5lhlpxE.js HTTP/1.1\" 304 -\n",
      "127.0.0.1 - - [29/Oct/2024 12:53:45] \"GET /static/assets/catWorker-D5lhlpxE.js HTTP/1.1\" 304 -\n",
      "127.0.0.1 - - [29/Oct/2024 12:53:45] \"GET /static/assets/rawHistogramWorker-CYPeI1fE.js HTTP/1.1\" 304 -\n",
      "127.0.0.1 - - [29/Oct/2024 12:53:45] \"GET /static/assets/catWorker-D5lhlpxE.js HTTP/1.1\" 304 -\n",
      "127.0.0.1 - - [29/Oct/2024 12:53:45] \"GET /static/assets/catWorker-D5lhlpxE.js HTTP/1.1\" 304 -\n",
      "127.0.0.1 - - [29/Oct/2024 12:53:45] \"GET /static/assets/catWorker-D5lhlpxE.js HTTP/1.1\" 304 -\n",
      "127.0.0.1 - - [29/Oct/2024 12:53:45] \"GET /static/assets/catWorker-D5lhlpxE.js HTTP/1.1\" 304 -\n",
      "127.0.0.1 - - [29/Oct/2024 12:53:45] \"GET /static/assets/catWorker-D5lhlpxE.js HTTP/1.1\" 304 -\n",
      "127.0.0.1 - - [29/Oct/2024 12:53:45] \"GET /static/assets/catWorker-D5lhlpxE.js HTTP/1.1\" 304 -\n",
      "127.0.0.1 - - [29/Oct/2024 12:53:45] \"GET /static/assets/catColWorker-BRK20MZB.js HTTP/1.1\" 304 -\n",
      "127.0.0.1 - - [29/Oct/2024 12:53:45] \"GET /static/assets/binWorker-DIC2QqPk.js HTTP/1.1\" 304 -\n",
      "127.0.0.1 - - [29/Oct/2024 12:53:45] \"GET /static/assets/boxPlotWorker-BvOiGWqU.js HTTP/1.1\" 304 -\n",
      "127.0.0.1 - - [29/Oct/2024 12:53:45] \"GET /static/assets/catWorker-D5lhlpxE.js HTTP/1.1\" 304 -\n"
     ]
    }
   ],
   "source": [
    "# serving the project\n",
    "p.serve()\n"
   ]
  }
 ],
 "metadata": {
  "kernelspec": {
   "display_name": "venvjupyter",
   "language": "python",
   "name": "venvjupyter"
  },
  "language_info": {
   "codemirror_mode": {
    "name": "ipython",
    "version": 3
   },
   "file_extension": ".py",
   "mimetype": "text/x-python",
   "name": "python",
   "nbconvert_exporter": "python",
   "pygments_lexer": "ipython3",
   "version": "3.12.3"
  }
 },
 "nbformat": 4,
 "nbformat_minor": 4
}
