{
 "cells": [
  {
   "cell_type": "markdown",
   "metadata": {},
   "source": [
    "# Processing, Clustering and Visualising in MDV 3k PBMCs"
   ]
  },
  {
   "cell_type": "markdown",
   "metadata": {},
   "source": [
    "The part of this tutorial dedicated to analysing the data is based on the scanpy tutorial \"Preprocessing and clustering 3k PBMCs (legacy workflow)\" found here: https://scanpy.readthedocs.io/en/stable/tutorials/index.html . If you are interested in understanding the data analysis part of this tutorial more, please check the scanpy tutorial. The data consists of 3k PBMCs from a Healthy Donor and are available from 10x Genomics. On a unix system, you can uncomment and run the following to download and unpack the data. Alternatively you can download the data from http://cf.10xgenomics.com/samples/cell-exp/1.1.0/pbmc3k/pbmc3k_filtered_gene_bc_matrices.tar.gz, create a new directory named \"data\" in the same level that this jupyter notebook is saved and run from, and unzip the data within the \"data\" directory."
   ]
  },
  {
   "cell_type": "code",
   "execution_count": 1,
   "metadata": {},
   "outputs": [],
   "source": [
    "#!mkdir data\n",
    "#!wget http://cf.10xgenomics.com/samples/cell-exp/1.1.0/pbmc3k/pbmc3k_filtered_gene_bc_matrices.tar.gz -O data/pbmc3k_filtered_gene_bc_matrices.tar.gz\n",
    "#!cd data; tar -xzf pbmc3k_filtered_gene_bc_matrices.tar.gz\n",
    "#!mkdir write"
   ]
  },
  {
   "cell_type": "markdown",
   "metadata": {},
   "source": [
    "#### Importing the required packages for data preprocessing"
   ]
  },
  {
   "cell_type": "code",
   "execution_count": 2,
   "metadata": {},
   "outputs": [],
   "source": [
    "import numpy as np\n",
    "import pandas as pd\n",
    "import scanpy as sc"
   ]
  },
  {
   "cell_type": "markdown",
   "metadata": {},
   "source": [
    "#### Importing the required packages for MDV set up and visualisation"
   ]
  },
  {
   "cell_type": "code",
   "execution_count": 3,
   "metadata": {},
   "outputs": [],
   "source": [
    "import os\n",
    "import json\n",
    "from mdvtools.mdvproject import MDVProject\n",
    "from mdvtools.charts.row_chart import RowChart\n",
    "from mdvtools.charts.dot_plot import DotPlot\n",
    "from mdvtools.charts.histogram_plot import HistogramPlot\n",
    "from mdvtools.charts.scatter_plot_3D import ScatterPlot3D\n",
    "from mdvtools.charts.scatter_plot import ScatterPlot\n",
    "from mdvtools.charts.table_plot import TablePlot"
   ]
  },
  {
   "cell_type": "markdown",
   "metadata": {},
   "source": [
    "## Data analysis section"
   ]
  },
  {
   "cell_type": "code",
   "execution_count": 4,
   "metadata": {},
   "outputs": [
    {
     "name": "stderr",
     "output_type": "stream",
     "text": [
      "/Users/mariak/Documents/MDVmk/MDV/venv/lib/python3.12/site-packages/tqdm/auto.py:21: TqdmWarning: IProgress not found. Please update jupyter and ipywidgets. See https://ipywidgets.readthedocs.io/en/stable/user_install.html\n",
      "  from .autonotebook import tqdm as notebook_tqdm\n"
     ]
    },
    {
     "name": "stdout",
     "output_type": "stream",
     "text": [
      "scanpy==1.10.1 anndata==0.9.2 umap==0.5.6 numpy==1.26.4 scipy==1.13.0 pandas==2.2.2 scikit-learn==1.4.2 statsmodels==0.14.2 igraph==0.11.4 pynndescent==0.5.12\n"
     ]
    }
   ],
   "source": [
    "# scanpy parameters for feedback level setting\n",
    "sc.settings.verbosity = 3  # verbosity: errors (0), warnings (1), info (2), hints (3)\n",
    "sc.logging.print_header() # printing a header of introductory information about the environment/library used"
   ]
  },
  {
   "cell_type": "code",
   "execution_count": 5,
   "metadata": {},
   "outputs": [],
   "source": [
    "#file_path = os.path.abspath('') # absolute path of the current python executing script file \n",
    "#dir = os.path.dirname(file_path) # absolute path of the directory containing the current script file\n",
    "#os.chdir(dir) # this function changes the current working directory to the one specified in its argument"
   ]
  },
  {
   "cell_type": "code",
   "execution_count": 6,
   "metadata": {},
   "outputs": [
    {
     "name": "stdout",
     "output_type": "stream",
     "text": [
      "<built-in function dir>\n"
     ]
    }
   ],
   "source": [
    "print(dir)"
   ]
  },
  {
   "cell_type": "code",
   "execution_count": 7,
   "metadata": {},
   "outputs": [
    {
     "name": "stdout",
     "output_type": "stream",
     "text": [
      "... reading from cache file cache/data-filtered_gene_bc_matrices-hg19-matrix.h5ad\n"
     ]
    }
   ],
   "source": [
    "# reading the 3k 10x data\n",
    "\n",
    "adata = sc.read_10x_mtx(\n",
    "    \"data/filtered_gene_bc_matrices/hg19/\",  # the directory with the `.mtx` file\n",
    "    var_names=\"gene_symbols\",  # use gene symbols for the variable names (variables-axis index)\n",
    "    cache=True,)  # write a cache file for faster subsequent reading)"
   ]
  },
  {
   "cell_type": "markdown",
   "metadata": {},
   "source": [
    "#### Data preprocessing"
   ]
  },
  {
   "cell_type": "code",
   "execution_count": 8,
   "metadata": {},
   "outputs": [
    {
     "name": "stdout",
     "output_type": "stream",
     "text": [
      "filtered out 19024 genes that are detected in less than 3 cells\n",
      "normalizing counts per cell\n",
      "    finished (0:00:00)\n",
      "extracting highly variable genes\n",
      "    finished (0:00:00)\n",
      "--> added\n",
      "    'highly_variable', boolean vector (adata.var)\n",
      "    'means', float vector (adata.var)\n",
      "    'dispersions', float vector (adata.var)\n",
      "    'dispersions_norm', float vector (adata.var)\n",
      "regressing out ['total_counts', 'pct_counts_mt']\n",
      "    sparse input is densified and may lead to high memory use\n"
     ]
    },
    {
     "name": "stderr",
     "output_type": "stream",
     "text": [
      "/Users/mariak/Documents/MDVmk/MDV/venv/lib/python3.12/site-packages/scanpy/preprocessing/_simple.py:641: UserWarning: Received a view of an AnnData. Making a copy.\n",
      "  view_to_actual(adata)\n"
     ]
    },
    {
     "name": "stdout",
     "output_type": "stream",
     "text": [
      "    finished (0:00:02)\n"
     ]
    }
   ],
   "source": [
    "# annotate the group of mitochondrial genes as \"mt\"\n",
    "adata.var[\"mt\"] = adata.var_names.str.startswith(\"MT-\")\n",
    "\n",
    "# running quality control metrics to filter the anndata object\n",
    "sc.pp.calculate_qc_metrics(\n",
    "    adata, qc_vars=[\"mt\"], percent_top=None, log1p=False, inplace=True)\n",
    "\n",
    "# using filter_cells and filter_genes to filter our cells\n",
    "sc.pp.filter_cells(adata, min_genes=200)\n",
    "sc.pp.filter_genes(adata, min_cells=3)\n",
    "\n",
    "# slicing the anndata object to remove genes that have too many mitochondrial genes expressed or too many total counts\n",
    "adata = adata[adata.obs.n_genes_by_counts < 2500, :] \n",
    "adata = adata[adata.obs.pct_counts_mt < 5, :].copy()\n",
    "\n",
    "# total-count normalising the anndata object to 10,000 reads per cell, so that counts become comparable among cells\n",
    "sc.pp.normalize_total(adata, target_sum=1e4)\n",
    "\n",
    "# logarithmising the data\n",
    "sc.pp.log1p(adata)\n",
    "\n",
    "# identifying highly-variable genes\n",
    "sc.pp.highly_variable_genes(adata, min_mean=0.0125, max_mean=3, min_disp=0.5)\n",
    "\n",
    "# freezing the state of the anndata object to the normalised and logarithmised raw gene expression\n",
    "adata.raw = adata\n",
    "\n",
    "# filtering the highly-variable genes\n",
    "adata = adata[:, adata.var.highly_variable]\n",
    "\n",
    "# regressing out effects of total counts per cell and the percentage of mitochondrial genes expressed\n",
    "sc.pp.regress_out(adata, [\"total_counts\", \"pct_counts_mt\"])\n",
    "\n",
    "# scaling the data to unit variance\n",
    "sc.pp.scale(adata, max_value=10)\n",
    "\n"
   ]
  },
  {
   "cell_type": "markdown",
   "metadata": {},
   "source": [
    "#### Principal component analysis"
   ]
  },
  {
   "cell_type": "code",
   "execution_count": 9,
   "metadata": {},
   "outputs": [
    {
     "name": "stdout",
     "output_type": "stream",
     "text": [
      "computing PCA\n",
      "    with n_comps=50\n",
      "    finished (0:00:01)\n"
     ]
    }
   ],
   "source": [
    "# running PCA\n",
    "sc.tl.pca(adata, svd_solver=\"arpack\")"
   ]
  },
  {
   "cell_type": "markdown",
   "metadata": {},
   "source": [
    "#### Neighborhood graph"
   ]
  },
  {
   "cell_type": "code",
   "execution_count": 10,
   "metadata": {},
   "outputs": [
    {
     "name": "stdout",
     "output_type": "stream",
     "text": [
      "computing neighbors\n",
      "    using 'X_pca' with n_pcs = 40\n",
      "    finished: added to `.uns['neighbors']`\n",
      "    `.obsp['distances']`, distances for each pair of neighbors\n",
      "    `.obsp['connectivities']`, weighted adjacency matrix (0:00:01)\n"
     ]
    }
   ],
   "source": [
    "# computing the neighborhood graph of cells using the PCA representation of the anndata object\n",
    "sc.pp.neighbors(adata, n_neighbors=10, n_pcs=40)"
   ]
  },
  {
   "cell_type": "markdown",
   "metadata": {},
   "source": [
    "#### Embedding the neighborhood graph in 2D"
   ]
  },
  {
   "cell_type": "code",
   "execution_count": 11,
   "metadata": {},
   "outputs": [
    {
     "name": "stdout",
     "output_type": "stream",
     "text": [
      "computing UMAP\n",
      "    finished: added\n",
      "    'X_umap', UMAP coordinates (adata.obsm) (0:00:02)\n"
     ]
    }
   ],
   "source": [
    "sc.tl.umap(adata)"
   ]
  },
  {
   "cell_type": "markdown",
   "metadata": {},
   "source": [
    "#### Clustering the neighborhood graph"
   ]
  },
  {
   "cell_type": "code",
   "execution_count": 12,
   "metadata": {},
   "outputs": [
    {
     "name": "stdout",
     "output_type": "stream",
     "text": [
      "running Leiden clustering\n",
      "    finished: found 7 clusters and added\n",
      "    'leiden', the cluster labels (adata.obs, categorical) (0:00:00)\n"
     ]
    },
    {
     "name": "stderr",
     "output_type": "stream",
     "text": [
      "/var/folders/xf/lj2gr_2s7txb29m_mkg78h_80000gn/T/ipykernel_52004/1228213169.py:1: FutureWarning: In the future, the default backend for leiden will be igraph instead of leidenalg.\n",
      "\n",
      " To achieve the future defaults please pass: flavor=\"igraph\" and n_iterations=2.  directed must also be False to work with igraph's implementation.\n",
      "  sc.tl.leiden(\n"
     ]
    }
   ],
   "source": [
    "sc.tl.leiden(\n",
    "    adata,\n",
    "    resolution=0.9,\n",
    "    random_state=0,\n",
    "    #flavor=\"igraph\", default is leidenalg\n",
    "    n_iterations=2,\n",
    "    directed=False,)"
   ]
  },
  {
   "cell_type": "markdown",
   "metadata": {},
   "source": [
    "#### Ranking the highly differential genes in each cluster"
   ]
  },
  {
   "cell_type": "code",
   "execution_count": 13,
   "metadata": {},
   "outputs": [
    {
     "name": "stdout",
     "output_type": "stream",
     "text": [
      "ranking genes\n",
      "    finished: added to `.uns['rank_genes_groups']`\n",
      "    'names', sorted np.recarray to be indexed by group ids\n",
      "    'scores', sorted np.recarray to be indexed by group ids\n",
      "    'logfoldchanges', sorted np.recarray to be indexed by group ids\n",
      "    'pvals', sorted np.recarray to be indexed by group ids\n",
      "    'pvals_adj', sorted np.recarray to be indexed by group ids (0:00:00)\n",
      "ranking genes\n",
      "    finished: added to `.uns['rank_genes_groups']`\n",
      "    'names', sorted np.recarray to be indexed by group ids\n",
      "    'scores', sorted np.recarray to be indexed by group ids\n",
      "    'logfoldchanges', sorted np.recarray to be indexed by group ids\n",
      "    'pvals', sorted np.recarray to be indexed by group ids\n",
      "    'pvals_adj', sorted np.recarray to be indexed by group ids (0:00:01)\n",
      "ranking genes\n",
      "    finished: added to `.uns['rank_genes_groups']`\n",
      "    'names', sorted np.recarray to be indexed by group ids\n",
      "    'scores', sorted np.recarray to be indexed by group ids\n",
      " (0:00:02)\n"
     ]
    }
   ],
   "source": [
    "sc.tl.rank_genes_groups(adata, \"leiden\", method=\"t-test\")\n",
    "sc.tl.rank_genes_groups(adata, \"leiden\", method=\"wilcoxon\")\n",
    "sc.tl.rank_genes_groups(adata, \"leiden\", method=\"logreg\", max_iter=1000)"
   ]
  },
  {
   "cell_type": "markdown",
   "metadata": {},
   "source": [
    "#### Converting the anndata object to pandas dataframes"
   ]
  },
  {
   "cell_type": "code",
   "execution_count": 14,
   "metadata": {},
   "outputs": [],
   "source": [
    "# cells dataframe \n",
    "\n",
    "cells_df = pd.DataFrame(adata.obs)\n",
    "\n",
    "# adding the PCA data to the cells dataframe\n",
    "pca_np = np.array(adata.obsm[\"X_pca\"])\n",
    "cells_df[\"X_pca_1\"] = pca_np[:, 0]\n",
    "cells_df[\"X_pca_2\"] = pca_np[:, 1]\n",
    "cells_df[\"X_pca_3\"] = pca_np[:, 2]\n",
    "\n",
    "# adding the umap data to the cells dataframe\n",
    "umap_np = np.array(adata.obsm[\"X_umap\"])\n",
    "cells_df[\"X_umap_1\"] = umap_np[:, 0]\n",
    "cells_df[\"X_umap_2\"] = umap_np[:, 1]\n",
    "\n",
    "cells_df[\"cell_id\"] = adata.obs.index\n",
    "\n",
    "assert isinstance(adata.X, np.ndarray)\n",
    "adata.layers['counts'] = adata.X.copy()\n",
    "\n",
    "## these can be added dynamically with the 'Add Gene Expr' UI in the frontend\n",
    "assert isinstance(adata.layers['counts'], np.ndarray)\n",
    "counts = np.array(adata.layers['counts'])\n",
    "transpose_counts = np.transpose(counts)\n",
    "cells_df['ARVCF']=transpose_counts[adata.var.index.get_loc(\"ARVCF\")]\n",
    "cells_df['DOK3']=transpose_counts[adata.var.index.get_loc(\"DOK3\")]\n",
    "cells_df['FAM210B']=transpose_counts[adata.var.index.get_loc(\"FAM210B\")]\n",
    "cells_df['GBGT1']=transpose_counts[adata.var.index.get_loc(\"GBGT1\")]\n",
    "cells_df['NFE2L2']=transpose_counts[adata.var.index.get_loc(\"NFE2L2\")]\n",
    "cells_df['UBE2D4']=transpose_counts[adata.var.index.get_loc(\"UBE2D4\")]\n",
    "cells_df['YPEL2']=transpose_counts[adata.var.index.get_loc(\"YPEL2\")]\n",
    "\n",
    "# genes dataframe\n",
    "gene_table = adata.var\n",
    "gene_table[\"gene_ids\"]=gene_table.index\n",
    "\n",
    "varm_np = np.array(adata.varm[\"PCs\"])\n",
    "gene_table[\"PCs_1\"] = varm_np[:, 0]\n",
    "gene_table[\"PCs_2\"] = varm_np[:, 1]"
   ]
  },
  {
   "cell_type": "markdown",
   "metadata": {},
   "source": [
    "## MDV charts set up section\n",
    "\n",
    "The different types of charts are defined in the mdvtools/charts/ folder. These are:\n",
    "1. Abundance box plot\n",
    "2. Box plot\n",
    "3. Density scatter plot\n",
    "4. Dot plot\n",
    "5. Heatmap plot\n",
    "6. Histogram plot\n",
    "7. Multi-line plot\n",
    "8. Ring chart\n",
    "9. Row chart\n",
    "10. Sankey plot\n",
    "11. Scatter plot\n",
    "12. Scatter plot 3D\n",
    "13. Stacked row plot\n",
    "14. Table\n",
    "15. Violin plot\n",
    "16. Wordcloud"
   ]
  },
  {
   "cell_type": "code",
   "execution_count": 15,
   "metadata": {},
   "outputs": [],
   "source": [
    "# Cells view charts\n",
    "\n",
    "# creating a row chart based on the Row Chart implementation to show the leiden clustering\n",
    "row_chart = RowChart(\n",
    "    title=\"leiden\",\n",
    "    param=\"leiden\",\n",
    "    position=[380, 270],\n",
    "    size=[260, 260]\n",
    ")\n",
    "\n",
    "# configuring the row chart\n",
    "row_chart.set_axis_properties(\"x\", {\"textSize\": 13, \"label\": \"\", \"tickfont\": 10})\n",
    "\n",
    "\n",
    "# creating a dot plot based on the DotPlot implementation to show the gene expression of selected gene markers\n",
    "dot_plot = DotPlot(\n",
    "    title=\"leiden\",\n",
    "    params=[\"leiden\", \"ARVCF\", \"DOK3\", \"FAM210B\", \"GBGT1\", \"NFE2L2\", \"UBE2D4\", \"YPEL2\"],\n",
    "    size=[400, 250],\n",
    "    position=[10, 10]\n",
    ")\n",
    "\n",
    "# configuring the dot plot\n",
    "dot_plot.set_axis_properties(\"x\", {\"label\": \"\", \"textSize\": 13, \"tickfont\": 10})\n",
    "dot_plot.set_axis_properties(\"y\", {\"label\": \"\", \"textSize\": 13, \"tickfont\": 10})\n",
    "dot_plot.set_axis_properties(\"ry\", {\"label\": \"\", \"textSize\": 13, \"tickfont\": 10})\n",
    "dot_plot.set_color_scale(log_scale=False)\n",
    "dot_plot.set_color_legend(True, [40, 10])\n",
    "dot_plot.set_fraction_legend(True, [0, 0])\n",
    "\n",
    "\n",
    "# creating a histogram plot based on the HistogramPlot implementation to show the distribution of the number of genes per counts\n",
    "histogram_plot = HistogramPlot(\n",
    "    title=\"n_genes_by_counts\",\n",
    "    param=\"n_genes_by_counts\",\n",
    "    bin_number=17,\n",
    "    display_min=0,\n",
    "    display_max=2500,\n",
    "    size=[360, 250],\n",
    "    position=[10, 280]\n",
    ")\n",
    "\n",
    "# configuring the histogram\n",
    "histogram_plot.set_x_axis(size=30, label=\"n_genes_by_counts\", textsize=13, tickfont=10)\n",
    "histogram_plot.set_y_axis(size=45, label=\"frequency\", textsize=13, tickfont=10, rotate_labels=False)\n",
    "\n",
    "# creating a scatter plot based on the ScatterPlot3D implementation to show the 3 PCA clustering components\n",
    "scatter_plot = ScatterPlot3D(\n",
    "    title=\"X_pca_1 x X_pca_2 x X_pca_3\",\n",
    "    params=[\"X_pca_1\", \"X_pca_2\", \"X_pca_3\"],\n",
    "    size=[250, 250],\n",
    "    position=[420, 10],\n",
    "    default_color=\"#377eb8\",\n",
    "    brush=\"default\",\n",
    "    center=[0, 0, 0],\n",
    "    on_filter=\"hide\",\n",
    "    radius=5,\n",
    "    opacity=0.8,\n",
    "    axis_scales=[220, 220, 220],\n",
    "    camera={\"distance\": 37543.999999999956, \"theta\": -1.038, \"phi\": 0.261}\n",
    ")\n",
    "\n",
    "# configuring the scatter plot\n",
    "scatter_plot.set_color_by(\"leiden\")\n"
   ]
  },
  {
   "cell_type": "code",
   "execution_count": 16,
   "metadata": {},
   "outputs": [
    {
     "data": {
      "text/plain": [
       "'# creating a histogram using the HistogramPlot implementation to show a histogram of the number of genes per cell distribution\\nhistogram_plot_2 = HistogramPlot(\\n    title=\"n_genes\",\\n    param=\"n_genes\",\\n    bin_number=17,\\n    display_min=0,\\n    display_max=2500,\\n    size=[360, 250],\\n    position=[10, 280]\\n)\\n\\n#\\xa0configuring the histogram\\nhistogram_plot_2.set_x_axis(size=30, label=\"n_genes\", textsize=13, tickfont=10)\\nhistogram_plot_2.set_y_axis(size=45, label=\"frequency\", textsize=13, tickfont=10, rotate_labels=False) '"
      ]
     },
     "execution_count": 16,
     "metadata": {},
     "output_type": "execute_result"
    }
   ],
   "source": [
    "# Genes views charts\n",
    "\n",
    "# creating a scatter plot using the ScatterPlot implementation to show the 2 PCA clustering components\n",
    "scatter2D_plot = ScatterPlot(\n",
    "    title=\"PCs_1 x PCs_2\",\n",
    "    params=[\"PCs_1\", \"PCs_2\"],\n",
    "    size=[250, 250],\n",
    "    position=[270, 10]\n",
    ")\n",
    "\n",
    "# configuring the scatter plot\n",
    "scatter2D_plot.set_default_color(\"#377eb8\")\n",
    "scatter2D_plot.set_brush(\"poly\")\n",
    "scatter2D_plot.set_opacity(0.8)\n",
    "scatter2D_plot.set_radius(2)\n",
    "scatter2D_plot.set_color_legend(display=True, position=[20, 1])\n",
    "scatter2D_plot.set_axis_properties(\"x\", {\"label\": \"PCs_1\", \"textSize\": 13, \"tickfont\": 10})\n",
    "scatter2D_plot.set_axis_properties(\"y\", {\"label\": \"PCs_2\", \"textSize\": 13, \"tickfont\": 10})\n",
    "scatter2D_plot.set_color_by(\"dispersions\")\n",
    "\n",
    "# creating a table using the TablePlot implementation to show all the data associated with the genes dataframe\n",
    "table_plot = TablePlot(\n",
    "    title=\"Data table\",\n",
    "    params= gene_table.columns.values.tolist() ,\n",
    "    size=[250, 500],\n",
    "    position=[10, 10]\n",
    ")\n",
    "\n",
    "'''# creating a histogram using the HistogramPlot implementation to show a histogram of the number of genes per cell distribution\n",
    "histogram_plot_2 = HistogramPlot(\n",
    "    title=\"n_genes\",\n",
    "    param=\"n_genes\",\n",
    "    bin_number=17,\n",
    "    display_min=0,\n",
    "    display_max=2500,\n",
    "    size=[360, 250],\n",
    "    position=[10, 280]\n",
    ")\n",
    "\n",
    "# configuring the histogram\n",
    "histogram_plot_2.set_x_axis(size=30, label=\"n_genes\", textsize=13, tickfont=10)\n",
    "histogram_plot_2.set_y_axis(size=45, label=\"frequency\", textsize=13, tickfont=10, rotate_labels=False) '''"
   ]
  },
  {
   "cell_type": "markdown",
   "metadata": {},
   "source": [
    "## Set up and serve the MDV project"
   ]
  },
  {
   "cell_type": "code",
   "execution_count": 17,
   "metadata": {},
   "outputs": [
    {
     "name": "stdout",
     "output_type": "stream",
     "text": [
      "created Flask <Flask 'mdvtools.server'>\n",
      " * Serving Flask app 'mdvtools.server'\n",
      " * Debug mode: on\n"
     ]
    },
    {
     "name": "stderr",
     "output_type": "stream",
     "text": [
      "Address already in use\n",
      "Port 5050 is in use by another program. Either identify and stop that program, or start the server with a different port.\n"
     ]
    },
    {
     "ename": "AttributeError",
     "evalue": "'tuple' object has no attribute 'tb_frame'",
     "output_type": "error",
     "traceback": [
      "\u001b[0;31m---------------------------------------------------------------------------\u001b[0m",
      "\u001b[0;31mOSError\u001b[0m                                   Traceback (most recent call last)",
      "File \u001b[0;32m~/Documents/MDVmk/MDV/venv/lib/python3.12/site-packages/werkzeug/serving.py:746\u001b[0m, in \u001b[0;36mBaseWSGIServer.__init__\u001b[0;34m(self, host, port, app, handler, passthrough_errors, ssl_context, fd)\u001b[0m\n\u001b[1;32m    745\u001b[0m \u001b[38;5;28;01mtry\u001b[39;00m:\n\u001b[0;32m--> 746\u001b[0m     \u001b[38;5;28;43mself\u001b[39;49m\u001b[38;5;241;43m.\u001b[39;49m\u001b[43mserver_bind\u001b[49m\u001b[43m(\u001b[49m\u001b[43m)\u001b[49m\n\u001b[1;32m    747\u001b[0m     \u001b[38;5;28mself\u001b[39m\u001b[38;5;241m.\u001b[39mserver_activate()\n",
      "File \u001b[0;32m/Library/Frameworks/Python.framework/Versions/3.12/lib/python3.12/http/server.py:136\u001b[0m, in \u001b[0;36mHTTPServer.server_bind\u001b[0;34m(self)\u001b[0m\n\u001b[1;32m    135\u001b[0m \u001b[38;5;250m\u001b[39m\u001b[38;5;124;03m\"\"\"Override server_bind to store the server name.\"\"\"\u001b[39;00m\n\u001b[0;32m--> 136\u001b[0m \u001b[43msocketserver\u001b[49m\u001b[38;5;241;43m.\u001b[39;49m\u001b[43mTCPServer\u001b[49m\u001b[38;5;241;43m.\u001b[39;49m\u001b[43mserver_bind\u001b[49m\u001b[43m(\u001b[49m\u001b[38;5;28;43mself\u001b[39;49m\u001b[43m)\u001b[49m\n\u001b[1;32m    137\u001b[0m host, port \u001b[38;5;241m=\u001b[39m \u001b[38;5;28mself\u001b[39m\u001b[38;5;241m.\u001b[39mserver_address[:\u001b[38;5;241m2\u001b[39m]\n",
      "File \u001b[0;32m/Library/Frameworks/Python.framework/Versions/3.12/lib/python3.12/socketserver.py:473\u001b[0m, in \u001b[0;36mTCPServer.server_bind\u001b[0;34m(self)\u001b[0m\n\u001b[1;32m    472\u001b[0m     \u001b[38;5;28mself\u001b[39m\u001b[38;5;241m.\u001b[39msocket\u001b[38;5;241m.\u001b[39msetsockopt(socket\u001b[38;5;241m.\u001b[39mSOL_SOCKET, socket\u001b[38;5;241m.\u001b[39mSO_REUSEPORT, \u001b[38;5;241m1\u001b[39m)\n\u001b[0;32m--> 473\u001b[0m \u001b[38;5;28;43mself\u001b[39;49m\u001b[38;5;241;43m.\u001b[39;49m\u001b[43msocket\u001b[49m\u001b[38;5;241;43m.\u001b[39;49m\u001b[43mbind\u001b[49m\u001b[43m(\u001b[49m\u001b[38;5;28;43mself\u001b[39;49m\u001b[38;5;241;43m.\u001b[39;49m\u001b[43mserver_address\u001b[49m\u001b[43m)\u001b[49m\n\u001b[1;32m    474\u001b[0m \u001b[38;5;28mself\u001b[39m\u001b[38;5;241m.\u001b[39mserver_address \u001b[38;5;241m=\u001b[39m \u001b[38;5;28mself\u001b[39m\u001b[38;5;241m.\u001b[39msocket\u001b[38;5;241m.\u001b[39mgetsockname()\n",
      "\u001b[0;31mOSError\u001b[0m: [Errno 48] Address already in use",
      "\nDuring handling of the above exception, another exception occurred:\n",
      "\u001b[0;31mSystemExit\u001b[0m                                Traceback (most recent call last)",
      "    \u001b[0;31m[... skipping hidden 1 frame]\u001b[0m\n",
      "Cell \u001b[0;32mIn[17], line 44\u001b[0m\n\u001b[1;32m     43\u001b[0m p\u001b[38;5;241m.\u001b[39mset_editable(\u001b[38;5;28;01mTrue\u001b[39;00m)\n\u001b[0;32m---> 44\u001b[0m \u001b[43mp\u001b[49m\u001b[38;5;241;43m.\u001b[39;49m\u001b[43mserve\u001b[49m\u001b[43m(\u001b[49m\u001b[43m)\u001b[49m\n",
      "File \u001b[0;32m~/Documents/MDVmk/MDV/python/mdvtools/mdvproject.py:782\u001b[0m, in \u001b[0;36mMDVProject.serve\u001b[0;34m(self, **kwargs)\u001b[0m\n\u001b[1;32m    780\u001b[0m \u001b[38;5;28;01mfrom\u001b[39;00m \u001b[38;5;21;01m.\u001b[39;00m\u001b[38;5;21;01mserver\u001b[39;00m \u001b[38;5;28;01mimport\u001b[39;00m create_app\n\u001b[0;32m--> 782\u001b[0m \u001b[43mcreate_app\u001b[49m\u001b[43m(\u001b[49m\u001b[38;5;28;43mself\u001b[39;49m\u001b[43m,\u001b[49m\u001b[43m \u001b[49m\u001b[38;5;241;43m*\u001b[39;49m\u001b[38;5;241;43m*\u001b[39;49m\u001b[43mkwargs\u001b[49m\u001b[43m)\u001b[49m\n",
      "File \u001b[0;32m~/Documents/MDVmk/MDV/python/mdvtools/server.py:303\u001b[0m, in \u001b[0;36mcreate_app\u001b[0;34m(project, open_browser, port, websocket, app)\u001b[0m\n\u001b[1;32m    302\u001b[0m \u001b[38;5;28;01melse\u001b[39;00m:\n\u001b[0;32m--> 303\u001b[0m     \u001b[43mapp\u001b[49m\u001b[38;5;241;43m.\u001b[39;49m\u001b[43mrun\u001b[49m\u001b[43m(\u001b[49m\u001b[43mhost\u001b[49m\u001b[38;5;241;43m=\u001b[39;49m\u001b[38;5;124;43m\"\u001b[39;49m\u001b[38;5;124;43m0.0.0.0\u001b[39;49m\u001b[38;5;124;43m\"\u001b[39;49m\u001b[43m,\u001b[49m\u001b[43m \u001b[49m\u001b[43mport\u001b[49m\u001b[38;5;241;43m=\u001b[39;49m\u001b[43mport\u001b[49m\u001b[43m,\u001b[49m\u001b[43m \u001b[49m\u001b[43mdebug\u001b[49m\u001b[38;5;241;43m=\u001b[39;49m\u001b[38;5;28;43;01mTrue\u001b[39;49;00m\u001b[43m)\u001b[49m\n",
      "File \u001b[0;32m~/Documents/MDVmk/MDV/venv/lib/python3.12/site-packages/flask/app.py:889\u001b[0m, in \u001b[0;36mFlask.run\u001b[0;34m(self, host, port, debug, load_dotenv, **options)\u001b[0m\n\u001b[1;32m    888\u001b[0m \u001b[38;5;28;01mtry\u001b[39;00m:\n\u001b[0;32m--> 889\u001b[0m     \u001b[43mrun_simple\u001b[49m\u001b[43m(\u001b[49m\u001b[43mt\u001b[49m\u001b[38;5;241;43m.\u001b[39;49m\u001b[43mcast\u001b[49m\u001b[43m(\u001b[49m\u001b[38;5;28;43mstr\u001b[39;49m\u001b[43m,\u001b[49m\u001b[43m \u001b[49m\u001b[43mhost\u001b[49m\u001b[43m)\u001b[49m\u001b[43m,\u001b[49m\u001b[43m \u001b[49m\u001b[43mport\u001b[49m\u001b[43m,\u001b[49m\u001b[43m \u001b[49m\u001b[38;5;28;43mself\u001b[39;49m\u001b[43m,\u001b[49m\u001b[43m \u001b[49m\u001b[38;5;241;43m*\u001b[39;49m\u001b[38;5;241;43m*\u001b[39;49m\u001b[43moptions\u001b[49m\u001b[43m)\u001b[49m\n\u001b[1;32m    890\u001b[0m \u001b[38;5;28;01mfinally\u001b[39;00m:\n\u001b[1;32m    891\u001b[0m     \u001b[38;5;66;03m# reset the first request information if the development server\u001b[39;00m\n\u001b[1;32m    892\u001b[0m     \u001b[38;5;66;03m# reset normally.  This makes it possible to restart the server\u001b[39;00m\n\u001b[1;32m    893\u001b[0m     \u001b[38;5;66;03m# without reloader and that stuff from an interactive shell.\u001b[39;00m\n",
      "File \u001b[0;32m~/Documents/MDVmk/MDV/venv/lib/python3.12/site-packages/werkzeug/serving.py:1077\u001b[0m, in \u001b[0;36mrun_simple\u001b[0;34m(hostname, port, application, use_reloader, use_debugger, use_evalex, extra_files, exclude_patterns, reloader_interval, reloader_type, threaded, processes, request_handler, static_files, passthrough_errors, ssl_context)\u001b[0m\n\u001b[1;32m   1075\u001b[0m     fd \u001b[38;5;241m=\u001b[39m \u001b[38;5;28mint\u001b[39m(os\u001b[38;5;241m.\u001b[39menviron[\u001b[38;5;124m\"\u001b[39m\u001b[38;5;124mWERKZEUG_SERVER_FD\u001b[39m\u001b[38;5;124m\"\u001b[39m])\n\u001b[0;32m-> 1077\u001b[0m srv \u001b[38;5;241m=\u001b[39m \u001b[43mmake_server\u001b[49m\u001b[43m(\u001b[49m\n\u001b[1;32m   1078\u001b[0m \u001b[43m    \u001b[49m\u001b[43mhostname\u001b[49m\u001b[43m,\u001b[49m\n\u001b[1;32m   1079\u001b[0m \u001b[43m    \u001b[49m\u001b[43mport\u001b[49m\u001b[43m,\u001b[49m\n\u001b[1;32m   1080\u001b[0m \u001b[43m    \u001b[49m\u001b[43mapplication\u001b[49m\u001b[43m,\u001b[49m\n\u001b[1;32m   1081\u001b[0m \u001b[43m    \u001b[49m\u001b[43mthreaded\u001b[49m\u001b[43m,\u001b[49m\n\u001b[1;32m   1082\u001b[0m \u001b[43m    \u001b[49m\u001b[43mprocesses\u001b[49m\u001b[43m,\u001b[49m\n\u001b[1;32m   1083\u001b[0m \u001b[43m    \u001b[49m\u001b[43mrequest_handler\u001b[49m\u001b[43m,\u001b[49m\n\u001b[1;32m   1084\u001b[0m \u001b[43m    \u001b[49m\u001b[43mpassthrough_errors\u001b[49m\u001b[43m,\u001b[49m\n\u001b[1;32m   1085\u001b[0m \u001b[43m    \u001b[49m\u001b[43mssl_context\u001b[49m\u001b[43m,\u001b[49m\n\u001b[1;32m   1086\u001b[0m \u001b[43m    \u001b[49m\u001b[43mfd\u001b[49m\u001b[38;5;241;43m=\u001b[39;49m\u001b[43mfd\u001b[49m\u001b[43m,\u001b[49m\n\u001b[1;32m   1087\u001b[0m \u001b[43m\u001b[49m\u001b[43m)\u001b[49m\n\u001b[1;32m   1088\u001b[0m srv\u001b[38;5;241m.\u001b[39msocket\u001b[38;5;241m.\u001b[39mset_inheritable(\u001b[38;5;28;01mTrue\u001b[39;00m)\n",
      "File \u001b[0;32m~/Documents/MDVmk/MDV/venv/lib/python3.12/site-packages/werkzeug/serving.py:917\u001b[0m, in \u001b[0;36mmake_server\u001b[0;34m(host, port, app, threaded, processes, request_handler, passthrough_errors, ssl_context, fd)\u001b[0m\n\u001b[1;32m    916\u001b[0m \u001b[38;5;28;01mif\u001b[39;00m threaded:\n\u001b[0;32m--> 917\u001b[0m     \u001b[38;5;28;01mreturn\u001b[39;00m \u001b[43mThreadedWSGIServer\u001b[49m\u001b[43m(\u001b[49m\n\u001b[1;32m    918\u001b[0m \u001b[43m        \u001b[49m\u001b[43mhost\u001b[49m\u001b[43m,\u001b[49m\u001b[43m \u001b[49m\u001b[43mport\u001b[49m\u001b[43m,\u001b[49m\u001b[43m \u001b[49m\u001b[43mapp\u001b[49m\u001b[43m,\u001b[49m\u001b[43m \u001b[49m\u001b[43mrequest_handler\u001b[49m\u001b[43m,\u001b[49m\u001b[43m \u001b[49m\u001b[43mpassthrough_errors\u001b[49m\u001b[43m,\u001b[49m\u001b[43m \u001b[49m\u001b[43mssl_context\u001b[49m\u001b[43m,\u001b[49m\u001b[43m \u001b[49m\u001b[43mfd\u001b[49m\u001b[38;5;241;43m=\u001b[39;49m\u001b[43mfd\u001b[49m\n\u001b[1;32m    919\u001b[0m \u001b[43m    \u001b[49m\u001b[43m)\u001b[49m\n\u001b[1;32m    921\u001b[0m \u001b[38;5;28;01mif\u001b[39;00m processes \u001b[38;5;241m>\u001b[39m \u001b[38;5;241m1\u001b[39m:\n",
      "File \u001b[0;32m~/Documents/MDVmk/MDV/venv/lib/python3.12/site-packages/werkzeug/serving.py:769\u001b[0m, in \u001b[0;36mBaseWSGIServer.__init__\u001b[0;34m(self, host, port, app, handler, passthrough_errors, ssl_context, fd)\u001b[0m\n\u001b[1;32m    763\u001b[0m             \u001b[38;5;28mprint\u001b[39m(\n\u001b[1;32m    764\u001b[0m                 \u001b[38;5;124m\"\u001b[39m\u001b[38;5;124mOn macOS, try disabling the \u001b[39m\u001b[38;5;124m'\u001b[39m\u001b[38;5;124mAirPlay Receiver\u001b[39m\u001b[38;5;124m'\u001b[39m\u001b[38;5;124m service\u001b[39m\u001b[38;5;124m\"\u001b[39m\n\u001b[1;32m    765\u001b[0m                 \u001b[38;5;124m\"\u001b[39m\u001b[38;5;124m from System Preferences -> General -> AirDrop & Handoff.\u001b[39m\u001b[38;5;124m\"\u001b[39m,\n\u001b[1;32m    766\u001b[0m                 file\u001b[38;5;241m=\u001b[39msys\u001b[38;5;241m.\u001b[39mstderr,\n\u001b[1;32m    767\u001b[0m             )\n\u001b[0;32m--> 769\u001b[0m     \u001b[43msys\u001b[49m\u001b[38;5;241;43m.\u001b[39;49m\u001b[43mexit\u001b[49m\u001b[43m(\u001b[49m\u001b[38;5;241;43m1\u001b[39;49m\u001b[43m)\u001b[49m\n\u001b[1;32m    770\u001b[0m \u001b[38;5;28;01mexcept\u001b[39;00m \u001b[38;5;167;01mBaseException\u001b[39;00m:\n",
      "\u001b[0;31mSystemExit\u001b[0m: 1",
      "\nDuring handling of the above exception, another exception occurred:\n",
      "\u001b[0;31mAttributeError\u001b[0m                            Traceback (most recent call last)",
      "    \u001b[0;31m[... skipping hidden 1 frame]\u001b[0m\n",
      "File \u001b[0;32m~/Documents/MDVmk/MDV/venv/lib/python3.12/site-packages/IPython/core/interactiveshell.py:2145\u001b[0m, in \u001b[0;36mInteractiveShell.showtraceback\u001b[0;34m(self, exc_tuple, filename, tb_offset, exception_only, running_compiled_code)\u001b[0m\n\u001b[1;32m   2142\u001b[0m \u001b[38;5;28;01mif\u001b[39;00m exception_only:\n\u001b[1;32m   2143\u001b[0m     stb \u001b[38;5;241m=\u001b[39m [\u001b[38;5;124m'\u001b[39m\u001b[38;5;124mAn exception has occurred, use \u001b[39m\u001b[38;5;124m%\u001b[39m\u001b[38;5;124mtb to see \u001b[39m\u001b[38;5;124m'\u001b[39m\n\u001b[1;32m   2144\u001b[0m            \u001b[38;5;124m'\u001b[39m\u001b[38;5;124mthe full traceback.\u001b[39m\u001b[38;5;130;01m\\n\u001b[39;00m\u001b[38;5;124m'\u001b[39m]\n\u001b[0;32m-> 2145\u001b[0m     stb\u001b[38;5;241m.\u001b[39mextend(\u001b[38;5;28;43mself\u001b[39;49m\u001b[38;5;241;43m.\u001b[39;49m\u001b[43mInteractiveTB\u001b[49m\u001b[38;5;241;43m.\u001b[39;49m\u001b[43mget_exception_only\u001b[49m\u001b[43m(\u001b[49m\u001b[43metype\u001b[49m\u001b[43m,\u001b[49m\n\u001b[1;32m   2146\u001b[0m \u001b[43m                                                     \u001b[49m\u001b[43mvalue\u001b[49m\u001b[43m)\u001b[49m)\n\u001b[1;32m   2147\u001b[0m \u001b[38;5;28;01melse\u001b[39;00m:\n\u001b[1;32m   2149\u001b[0m     \u001b[38;5;28;01mdef\u001b[39;00m \u001b[38;5;21mcontains_exceptiongroup\u001b[39m(val):\n",
      "File \u001b[0;32m~/Documents/MDVmk/MDV/venv/lib/python3.12/site-packages/IPython/core/ultratb.py:710\u001b[0m, in \u001b[0;36mListTB.get_exception_only\u001b[0;34m(self, etype, value)\u001b[0m\n\u001b[1;32m    702\u001b[0m \u001b[38;5;28;01mdef\u001b[39;00m \u001b[38;5;21mget_exception_only\u001b[39m(\u001b[38;5;28mself\u001b[39m, etype, value):\n\u001b[1;32m    703\u001b[0m \u001b[38;5;250m    \u001b[39m\u001b[38;5;124;03m\"\"\"Only print the exception type and message, without a traceback.\u001b[39;00m\n\u001b[1;32m    704\u001b[0m \n\u001b[1;32m    705\u001b[0m \u001b[38;5;124;03m    Parameters\u001b[39;00m\n\u001b[0;32m   (...)\u001b[0m\n\u001b[1;32m    708\u001b[0m \u001b[38;5;124;03m    value : exception value\u001b[39;00m\n\u001b[1;32m    709\u001b[0m \u001b[38;5;124;03m    \"\"\"\u001b[39;00m\n\u001b[0;32m--> 710\u001b[0m     \u001b[38;5;28;01mreturn\u001b[39;00m \u001b[43mListTB\u001b[49m\u001b[38;5;241;43m.\u001b[39;49m\u001b[43mstructured_traceback\u001b[49m\u001b[43m(\u001b[49m\u001b[38;5;28;43mself\u001b[39;49m\u001b[43m,\u001b[49m\u001b[43m \u001b[49m\u001b[43metype\u001b[49m\u001b[43m,\u001b[49m\u001b[43m \u001b[49m\u001b[43mvalue\u001b[49m\u001b[43m)\u001b[49m\n",
      "File \u001b[0;32m~/Documents/MDVmk/MDV/venv/lib/python3.12/site-packages/IPython/core/ultratb.py:568\u001b[0m, in \u001b[0;36mListTB.structured_traceback\u001b[0;34m(self, etype, evalue, etb, tb_offset, context)\u001b[0m\n\u001b[1;32m    565\u001b[0m     chained_exc_ids\u001b[38;5;241m.\u001b[39madd(\u001b[38;5;28mid\u001b[39m(exception[\u001b[38;5;241m1\u001b[39m]))\n\u001b[1;32m    566\u001b[0m     chained_exceptions_tb_offset \u001b[38;5;241m=\u001b[39m \u001b[38;5;241m0\u001b[39m\n\u001b[1;32m    567\u001b[0m     out_list \u001b[38;5;241m=\u001b[39m (\n\u001b[0;32m--> 568\u001b[0m         \u001b[38;5;28;43mself\u001b[39;49m\u001b[38;5;241;43m.\u001b[39;49m\u001b[43mstructured_traceback\u001b[49m\u001b[43m(\u001b[49m\n\u001b[1;32m    569\u001b[0m \u001b[43m            \u001b[49m\u001b[43metype\u001b[49m\u001b[43m,\u001b[49m\n\u001b[1;32m    570\u001b[0m \u001b[43m            \u001b[49m\u001b[43mevalue\u001b[49m\u001b[43m,\u001b[49m\n\u001b[1;32m    571\u001b[0m \u001b[43m            \u001b[49m\u001b[43m(\u001b[49m\u001b[43metb\u001b[49m\u001b[43m,\u001b[49m\u001b[43m \u001b[49m\u001b[43mchained_exc_ids\u001b[49m\u001b[43m)\u001b[49m\u001b[43m,\u001b[49m\u001b[43m  \u001b[49m\u001b[38;5;66;43;03m# type: ignore\u001b[39;49;00m\n\u001b[1;32m    572\u001b[0m \u001b[43m            \u001b[49m\u001b[43mchained_exceptions_tb_offset\u001b[49m\u001b[43m,\u001b[49m\n\u001b[1;32m    573\u001b[0m \u001b[43m            \u001b[49m\u001b[43mcontext\u001b[49m\u001b[43m,\u001b[49m\n\u001b[1;32m    574\u001b[0m \u001b[43m        \u001b[49m\u001b[43m)\u001b[49m\n\u001b[1;32m    575\u001b[0m         \u001b[38;5;241m+\u001b[39m chained_exception_message\n\u001b[1;32m    576\u001b[0m         \u001b[38;5;241m+\u001b[39m out_list)\n\u001b[1;32m    578\u001b[0m \u001b[38;5;28;01mreturn\u001b[39;00m out_list\n",
      "File \u001b[0;32m~/Documents/MDVmk/MDV/venv/lib/python3.12/site-packages/IPython/core/ultratb.py:1454\u001b[0m, in \u001b[0;36mAutoFormattedTB.structured_traceback\u001b[0;34m(self, etype, evalue, etb, tb_offset, number_of_lines_of_context)\u001b[0m\n\u001b[1;32m   1452\u001b[0m \u001b[38;5;28;01melse\u001b[39;00m:\n\u001b[1;32m   1453\u001b[0m     \u001b[38;5;28mself\u001b[39m\u001b[38;5;241m.\u001b[39mtb \u001b[38;5;241m=\u001b[39m etb\n\u001b[0;32m-> 1454\u001b[0m \u001b[38;5;28;01mreturn\u001b[39;00m \u001b[43mFormattedTB\u001b[49m\u001b[38;5;241;43m.\u001b[39;49m\u001b[43mstructured_traceback\u001b[49m\u001b[43m(\u001b[49m\n\u001b[1;32m   1455\u001b[0m \u001b[43m    \u001b[49m\u001b[38;5;28;43mself\u001b[39;49m\u001b[43m,\u001b[49m\u001b[43m \u001b[49m\u001b[43metype\u001b[49m\u001b[43m,\u001b[49m\u001b[43m \u001b[49m\u001b[43mevalue\u001b[49m\u001b[43m,\u001b[49m\u001b[43m \u001b[49m\u001b[43metb\u001b[49m\u001b[43m,\u001b[49m\u001b[43m \u001b[49m\u001b[43mtb_offset\u001b[49m\u001b[43m,\u001b[49m\u001b[43m \u001b[49m\u001b[43mnumber_of_lines_of_context\u001b[49m\n\u001b[1;32m   1456\u001b[0m \u001b[43m\u001b[49m\u001b[43m)\u001b[49m\n",
      "File \u001b[0;32m~/Documents/MDVmk/MDV/venv/lib/python3.12/site-packages/IPython/core/ultratb.py:1345\u001b[0m, in \u001b[0;36mFormattedTB.structured_traceback\u001b[0;34m(self, etype, value, tb, tb_offset, number_of_lines_of_context)\u001b[0m\n\u001b[1;32m   1342\u001b[0m mode \u001b[38;5;241m=\u001b[39m \u001b[38;5;28mself\u001b[39m\u001b[38;5;241m.\u001b[39mmode\n\u001b[1;32m   1343\u001b[0m \u001b[38;5;28;01mif\u001b[39;00m mode \u001b[38;5;129;01min\u001b[39;00m \u001b[38;5;28mself\u001b[39m\u001b[38;5;241m.\u001b[39mverbose_modes:\n\u001b[1;32m   1344\u001b[0m     \u001b[38;5;66;03m# Verbose modes need a full traceback\u001b[39;00m\n\u001b[0;32m-> 1345\u001b[0m     \u001b[38;5;28;01mreturn\u001b[39;00m \u001b[43mVerboseTB\u001b[49m\u001b[38;5;241;43m.\u001b[39;49m\u001b[43mstructured_traceback\u001b[49m\u001b[43m(\u001b[49m\n\u001b[1;32m   1346\u001b[0m \u001b[43m        \u001b[49m\u001b[38;5;28;43mself\u001b[39;49m\u001b[43m,\u001b[49m\u001b[43m \u001b[49m\u001b[43metype\u001b[49m\u001b[43m,\u001b[49m\u001b[43m \u001b[49m\u001b[43mvalue\u001b[49m\u001b[43m,\u001b[49m\u001b[43m \u001b[49m\u001b[43mtb\u001b[49m\u001b[43m,\u001b[49m\u001b[43m \u001b[49m\u001b[43mtb_offset\u001b[49m\u001b[43m,\u001b[49m\u001b[43m \u001b[49m\u001b[43mnumber_of_lines_of_context\u001b[49m\n\u001b[1;32m   1347\u001b[0m \u001b[43m    \u001b[49m\u001b[43m)\u001b[49m\n\u001b[1;32m   1348\u001b[0m \u001b[38;5;28;01melif\u001b[39;00m mode \u001b[38;5;241m==\u001b[39m \u001b[38;5;124m'\u001b[39m\u001b[38;5;124mMinimal\u001b[39m\u001b[38;5;124m'\u001b[39m:\n\u001b[1;32m   1349\u001b[0m     \u001b[38;5;28;01mreturn\u001b[39;00m ListTB\u001b[38;5;241m.\u001b[39mget_exception_only(\u001b[38;5;28mself\u001b[39m, etype, value)\n",
      "File \u001b[0;32m~/Documents/MDVmk/MDV/venv/lib/python3.12/site-packages/IPython/core/ultratb.py:1192\u001b[0m, in \u001b[0;36mVerboseTB.structured_traceback\u001b[0;34m(self, etype, evalue, etb, tb_offset, number_of_lines_of_context)\u001b[0m\n\u001b[1;32m   1183\u001b[0m \u001b[38;5;28;01mdef\u001b[39;00m \u001b[38;5;21mstructured_traceback\u001b[39m(\n\u001b[1;32m   1184\u001b[0m     \u001b[38;5;28mself\u001b[39m,\n\u001b[1;32m   1185\u001b[0m     etype: \u001b[38;5;28mtype\u001b[39m,\n\u001b[0;32m   (...)\u001b[0m\n\u001b[1;32m   1189\u001b[0m     number_of_lines_of_context: \u001b[38;5;28mint\u001b[39m \u001b[38;5;241m=\u001b[39m \u001b[38;5;241m5\u001b[39m,\n\u001b[1;32m   1190\u001b[0m ):\n\u001b[1;32m   1191\u001b[0m \u001b[38;5;250m    \u001b[39m\u001b[38;5;124;03m\"\"\"Return a nice text document describing the traceback.\"\"\"\u001b[39;00m\n\u001b[0;32m-> 1192\u001b[0m     formatted_exception \u001b[38;5;241m=\u001b[39m \u001b[38;5;28;43mself\u001b[39;49m\u001b[38;5;241;43m.\u001b[39;49m\u001b[43mformat_exception_as_a_whole\u001b[49m\u001b[43m(\u001b[49m\u001b[43metype\u001b[49m\u001b[43m,\u001b[49m\u001b[43m \u001b[49m\u001b[43mevalue\u001b[49m\u001b[43m,\u001b[49m\u001b[43m \u001b[49m\u001b[43metb\u001b[49m\u001b[43m,\u001b[49m\u001b[43m \u001b[49m\u001b[43mnumber_of_lines_of_context\u001b[49m\u001b[43m,\u001b[49m\n\u001b[1;32m   1193\u001b[0m \u001b[43m                                                           \u001b[49m\u001b[43mtb_offset\u001b[49m\u001b[43m)\u001b[49m\n\u001b[1;32m   1195\u001b[0m     colors \u001b[38;5;241m=\u001b[39m \u001b[38;5;28mself\u001b[39m\u001b[38;5;241m.\u001b[39mColors  \u001b[38;5;66;03m# just a shorthand + quicker name lookup\u001b[39;00m\n\u001b[1;32m   1196\u001b[0m     colorsnormal \u001b[38;5;241m=\u001b[39m colors\u001b[38;5;241m.\u001b[39mNormal  \u001b[38;5;66;03m# used a lot\u001b[39;00m\n",
      "File \u001b[0;32m~/Documents/MDVmk/MDV/venv/lib/python3.12/site-packages/IPython/core/ultratb.py:1082\u001b[0m, in \u001b[0;36mVerboseTB.format_exception_as_a_whole\u001b[0;34m(self, etype, evalue, etb, number_of_lines_of_context, tb_offset)\u001b[0m\n\u001b[1;32m   1079\u001b[0m \u001b[38;5;28;01massert\u001b[39;00m \u001b[38;5;28misinstance\u001b[39m(tb_offset, \u001b[38;5;28mint\u001b[39m)\n\u001b[1;32m   1080\u001b[0m head \u001b[38;5;241m=\u001b[39m \u001b[38;5;28mself\u001b[39m\u001b[38;5;241m.\u001b[39mprepare_header(\u001b[38;5;28mstr\u001b[39m(etype), \u001b[38;5;28mself\u001b[39m\u001b[38;5;241m.\u001b[39mlong_header)\n\u001b[1;32m   1081\u001b[0m records \u001b[38;5;241m=\u001b[39m (\n\u001b[0;32m-> 1082\u001b[0m     \u001b[38;5;28;43mself\u001b[39;49m\u001b[38;5;241;43m.\u001b[39;49m\u001b[43mget_records\u001b[49m\u001b[43m(\u001b[49m\u001b[43metb\u001b[49m\u001b[43m,\u001b[49m\u001b[43m \u001b[49m\u001b[43mnumber_of_lines_of_context\u001b[49m\u001b[43m,\u001b[49m\u001b[43m \u001b[49m\u001b[43mtb_offset\u001b[49m\u001b[43m)\u001b[49m \u001b[38;5;28;01mif\u001b[39;00m etb \u001b[38;5;28;01melse\u001b[39;00m []\n\u001b[1;32m   1083\u001b[0m )\n\u001b[1;32m   1085\u001b[0m frames \u001b[38;5;241m=\u001b[39m []\n\u001b[1;32m   1086\u001b[0m skipped \u001b[38;5;241m=\u001b[39m \u001b[38;5;241m0\u001b[39m\n",
      "File \u001b[0;32m~/Documents/MDVmk/MDV/venv/lib/python3.12/site-packages/IPython/core/ultratb.py:1150\u001b[0m, in \u001b[0;36mVerboseTB.get_records\u001b[0;34m(self, etb, number_of_lines_of_context, tb_offset)\u001b[0m\n\u001b[1;32m   1148\u001b[0m \u001b[38;5;28;01mwhile\u001b[39;00m cf \u001b[38;5;129;01mis\u001b[39;00m \u001b[38;5;129;01mnot\u001b[39;00m \u001b[38;5;28;01mNone\u001b[39;00m:\n\u001b[1;32m   1149\u001b[0m     \u001b[38;5;28;01mtry\u001b[39;00m:\n\u001b[0;32m-> 1150\u001b[0m         mod \u001b[38;5;241m=\u001b[39m inspect\u001b[38;5;241m.\u001b[39mgetmodule(\u001b[43mcf\u001b[49m\u001b[38;5;241;43m.\u001b[39;49m\u001b[43mtb_frame\u001b[49m)\n\u001b[1;32m   1151\u001b[0m         \u001b[38;5;28;01mif\u001b[39;00m mod \u001b[38;5;129;01mis\u001b[39;00m \u001b[38;5;129;01mnot\u001b[39;00m \u001b[38;5;28;01mNone\u001b[39;00m:\n\u001b[1;32m   1152\u001b[0m             mod_name \u001b[38;5;241m=\u001b[39m mod\u001b[38;5;241m.\u001b[39m\u001b[38;5;18m__name__\u001b[39m\n",
      "\u001b[0;31mAttributeError\u001b[0m: 'tuple' object has no attribute 'tb_frame'"
     ]
    }
   ],
   "source": [
    "# seting up and serving the MDV project\n",
    "base = os.path.expanduser('~/mdv')\n",
    "project_path = os.path.join(base, 'pbmc3k') # defining the location where the project metadata will be stored\n",
    "p = MDVProject(os.path.expanduser(project_path), delete_existing=True)\n",
    "\n",
    "# adding the two data sources to the project\n",
    "p.add_datasource(\"cells\", cells_df)\n",
    "p.add_datasource(\"genes\", gene_table)\n",
    "\n",
    "# converting the chart implementation outputs to JSON and setuping the project view\n",
    "list_charts_cells = []\n",
    "list_charts_genes = []\n",
    "\n",
    "# cells view\n",
    "row_chart_data = json.loads(json.dumps(row_chart.plot_data, indent=2).replace(\"\\\\\", \"\"))\n",
    "dot_chart_data = json.loads(json.dumps(dot_plot.plot_data, indent=2).replace(\"\\\\\", \"\"))\n",
    "histogram_chart_data = json.loads(json.dumps(histogram_plot.plot_data, indent=2).replace(\"\\\\\", \"\"))\n",
    "scatter_chart = json.loads(json.dumps(scatter_plot.plot_data, indent=2).replace(\"\\\\\", \"\"))\n",
    "\n",
    "list_charts_cells.append(row_chart_data)\n",
    "list_charts_cells.append(dot_chart_data)\n",
    "list_charts_cells.append(histogram_chart_data)\n",
    "list_charts_cells.append(scatter_chart)\n",
    "\n",
    "# genes view\n",
    "table_chart = json.loads(json.dumps(table_plot.plot_data, indent=2).replace(\"\\\\\", \"\"))\n",
    "scatter2D_chart = json.loads(json.dumps(scatter2D_plot.plot_data, indent=2).replace(\"\\\\\", \"\"))\n",
    "#histogram_chart_data_2 = json.loads(json.dumps(histogram_plot_2.plot_data, indent=2).replace(\"\\\\\", \"\"))\n",
    "\n",
    "list_charts_genes.append(table_chart)\n",
    "list_charts_genes.append(scatter2D_chart)\n",
    "#list_charts_cells.append(histogram_chart_data_2)\n",
    "\n",
    "# setting the config combining the two views\n",
    "view_config = {'initialCharts': {\"cells\": list_charts_cells, \"genes\":list_charts_genes}}\n",
    "\n",
    "# creating the link between the two datasets so that selecting a subset of genes to add the expression in cells is enabled\n",
    "p.add_rows_as_columns_link(\"cells\",\"genes\",\"gene_ids\",\"Gene Expr\")\n",
    "\n",
    "p.add_rows_as_columns_subgroup(\"cells\",\"genes\",\"gs\",adata.X,name=\"scores\",label=\"Gene Scores\") #add the gene expression \n",
    "\n",
    "p.set_view(\"default\", view_config)\n",
    "p.set_editable(True)\n",
    "p.serve()"
   ]
  }
 ],
 "metadata": {
  "kernelspec": {
   "display_name": "venv",
   "language": "python",
   "name": "python3"
  },
  "language_info": {
   "codemirror_mode": {
    "name": "ipython",
    "version": 3
   },
   "file_extension": ".py",
   "mimetype": "text/x-python",
   "name": "python",
   "nbconvert_exporter": "python",
   "pygments_lexer": "ipython3",
   "version": "3.12.3"
  }
 },
 "nbformat": 4,
 "nbformat_minor": 2
}
